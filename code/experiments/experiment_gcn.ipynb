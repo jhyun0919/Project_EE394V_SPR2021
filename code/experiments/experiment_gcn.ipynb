{
 "cells": [
  {
   "cell_type": "markdown",
   "metadata": {},
   "source": [
    "# GraphConvNets"
   ]
  },
  {
   "cell_type": "code",
   "execution_count": 1,
   "metadata": {
    "ExecuteTime": {
     "end_time": "2021-05-16T22:04:28.940216Z",
     "start_time": "2021-05-16T22:04:28.937087Z"
    }
   },
   "outputs": [],
   "source": [
    "import sys\n",
    "sys.path.insert(0,'..')\n",
    "sys.path.insert(0,'../data generation')\n",
    "sys.path.insert(0,'../model architecture')"
   ]
  },
  {
   "cell_type": "code",
   "execution_count": 2,
   "metadata": {
    "ExecuteTime": {
     "end_time": "2021-05-16T22:04:33.671249Z",
     "start_time": "2021-05-16T22:04:28.943003Z"
    }
   },
   "outputs": [
    {
     "name": "stderr",
     "output_type": "stream",
     "text": [
      "Using backend: pytorch\n"
     ]
    }
   ],
   "source": [
    "from data_generator import load_dataset\n",
    "from models import *\n",
    "from experiment_tools import *\n",
    "from params import *"
   ]
  },
  {
   "cell_type": "markdown",
   "metadata": {},
   "source": [
    "## Dataset\n",
    "### Set hyper-parameters: dataset"
   ]
  },
  {
   "cell_type": "code",
   "execution_count": 3,
   "metadata": {
    "ExecuteTime": {
     "end_time": "2021-05-16T22:04:33.676116Z",
     "start_time": "2021-05-16T22:04:33.673291Z"
    }
   },
   "outputs": [],
   "source": [
    "test_cases, dataset_size, std_scaler, test_type = get_test_params()"
   ]
  },
  {
   "cell_type": "markdown",
   "metadata": {},
   "source": [
    "### Select a dataset"
   ]
  },
  {
   "cell_type": "code",
   "execution_count": 4,
   "metadata": {
    "ExecuteTime": {
     "end_time": "2021-05-16T22:04:33.683117Z",
     "start_time": "2021-05-16T22:04:33.678572Z"
    }
   },
   "outputs": [
    {
     "data": {
      "text/plain": [
       "'pglib_opf_case24_ieee_rts.m'"
      ]
     },
     "execution_count": 4,
     "metadata": {},
     "output_type": "execute_result"
    }
   ],
   "source": [
    "idx = 0\n",
    "test_case = test_cases[idx]\n",
    "test_case"
   ]
  },
  {
   "cell_type": "markdown",
   "metadata": {},
   "source": [
    "### Load a dataset"
   ]
  },
  {
   "cell_type": "code",
   "execution_count": 5,
   "metadata": {
    "ExecuteTime": {
     "end_time": "2021-05-16T22:04:33.753982Z",
     "start_time": "2021-05-16T22:04:33.684754Z"
    },
    "scrolled": true
   },
   "outputs": [],
   "source": [
    "dataset = load_dataset(test_case=test_case,\n",
    "                       dataset_size=dataset_size,\n",
    "                       std_scaler=std_scaler,\n",
    "                       test_type=test_type,\n",
    "                       gen_only=True)"
   ]
  },
  {
   "cell_type": "markdown",
   "metadata": {},
   "source": [
    "### Check the shape of the dataset\n",
    "- number of samples\n",
    "- number of buses\n",
    "- number of generators"
   ]
  },
  {
   "cell_type": "code",
   "execution_count": 6,
   "metadata": {
    "ExecuteTime": {
     "end_time": "2021-05-16T22:04:33.758571Z",
     "start_time": "2021-05-16T22:04:33.755258Z"
    }
   },
   "outputs": [
    {
     "data": {
      "text/plain": [
       "((30000, 24, 1), (30000, 24, 6))"
      ]
     },
     "execution_count": 6,
     "metadata": {},
     "output_type": "execute_result"
    }
   ],
   "source": [
    "# (num_samples, num_buses),(num_samples, num_gens) \n",
    "dataset['x'].shape, dataset['y'].shape "
   ]
  },
  {
   "cell_type": "markdown",
   "metadata": {},
   "source": [
    "### Check the shape of the graph"
   ]
  },
  {
   "cell_type": "code",
   "execution_count": 7,
   "metadata": {
    "ExecuteTime": {
     "end_time": "2021-05-16T22:04:33.765074Z",
     "start_time": "2021-05-16T22:04:33.760584Z"
    }
   },
   "outputs": [],
   "source": [
    "g = get_graph_structure(dataset['g'])"
   ]
  },
  {
   "cell_type": "code",
   "execution_count": 8,
   "metadata": {
    "ExecuteTime": {
     "end_time": "2021-05-16T22:04:33.771663Z",
     "start_time": "2021-05-16T22:04:33.768696Z"
    }
   },
   "outputs": [
    {
     "data": {
      "text/plain": [
       "dict_keys(['bus_idx', 'fbus2tbus', 'gen_bus_idx'])"
      ]
     },
     "execution_count": 8,
     "metadata": {},
     "output_type": "execute_result"
    }
   ],
   "source": [
    "dataset['g'].keys()"
   ]
  },
  {
   "cell_type": "code",
   "execution_count": 9,
   "metadata": {
    "ExecuteTime": {
     "end_time": "2021-05-16T22:04:33.778811Z",
     "start_time": "2021-05-16T22:04:33.775156Z"
    }
   },
   "outputs": [
    {
     "data": {
      "text/plain": [
       "((24,), (38, 2), (33, 1))"
      ]
     },
     "execution_count": 9,
     "metadata": {},
     "output_type": "execute_result"
    }
   ],
   "source": [
    "dataset['g']['bus_idx'].shape, dataset['g']['fbus2tbus'].shape, dataset['g']['gen_bus_idx'].shape"
   ]
  },
  {
   "cell_type": "code",
   "execution_count": 10,
   "metadata": {
    "ExecuteTime": {
     "end_time": "2021-05-16T22:04:33.783634Z",
     "start_time": "2021-05-16T22:04:33.780476Z"
    }
   },
   "outputs": [
    {
     "data": {
      "text/plain": [
       "Graph(num_nodes=24, num_edges=100,\n",
       "      ndata_schemes={}\n",
       "      edata_schemes={})"
      ]
     },
     "execution_count": 10,
     "metadata": {},
     "output_type": "execute_result"
    }
   ],
   "source": [
    "g"
   ]
  },
  {
   "cell_type": "code",
   "execution_count": null,
   "metadata": {},
   "outputs": [],
   "source": []
  },
  {
   "cell_type": "code",
   "execution_count": 11,
   "metadata": {
    "ExecuteTime": {
     "end_time": "2021-05-16T22:04:33.787034Z",
     "start_time": "2021-05-16T22:04:33.785356Z"
    }
   },
   "outputs": [],
   "source": [
    "# import networkx as nx\n",
    "# import matplotlib.pyplot as plt"
   ]
  },
  {
   "cell_type": "code",
   "execution_count": 12,
   "metadata": {
    "ExecuteTime": {
     "end_time": "2021-05-16T22:04:34.524243Z",
     "start_time": "2021-05-16T22:04:33.788630Z"
    }
   },
   "outputs": [
    {
     "data": {
      "image/png": "[encoded data removed]",
      "text/plain": [
       "<Figure size 576x432 with 1 Axes>"
      ]
     },
     "metadata": {},
     "output_type": "display_data"
    }
   ],
   "source": [
    "nx.draw(g.to_networkx(), with_labels=True)\n",
    "plt.show()"
   ]
  },
  {
   "cell_type": "code",
   "execution_count": null,
   "metadata": {},
   "outputs": [],
   "source": []
  },
  {
   "cell_type": "code",
   "execution_count": null,
   "metadata": {},
   "outputs": [],
   "source": []
  },
  {
   "cell_type": "markdown",
   "metadata": {},
   "source": [
    "## Model\n",
    "### Set hyper-parameters: model"
   ]
  },
  {
   "cell_type": "code",
   "execution_count": 13,
   "metadata": {
    "ExecuteTime": {
     "end_time": "2021-05-16T22:04:34.531878Z",
     "start_time": "2021-05-16T22:04:34.527775Z"
    }
   },
   "outputs": [],
   "source": [
    "model_name = \"gcn\"\n",
    "num_epochs, batch_size, lr, threshold, print_step = get_h_params(model_name)"
   ]
  },
  {
   "cell_type": "markdown",
   "metadata": {},
   "source": [
    "### Set data-loaders"
   ]
  },
  {
   "cell_type": "code",
   "execution_count": 14,
   "metadata": {
    "ExecuteTime": {
     "end_time": "2021-05-16T22:04:34.563789Z",
     "start_time": "2021-05-16T22:04:34.533995Z"
    }
   },
   "outputs": [
    {
     "name": "stderr",
     "output_type": "stream",
     "text": [
      "/Users/jeehyunpark/git_local/UT/Project_EE394V_SPR2021/code/experiments/experiment_tools.py:42: RuntimeWarning: invalid value encountered in true_divide\n",
      "  x_normed = np.nan_to_num(dataset[\"x\"] / dataset[\"x\"].max(axis=0), nan=0.0)\n"
     ]
    }
   ],
   "source": [
    "train_loader, val_loader, test_loader = data_prep(dataset=dataset,\n",
    "                                                  batch_size=None)"
   ]
  },
  {
   "cell_type": "markdown",
   "metadata": {},
   "source": [
    "### Check the shape of the data-loaders\n",
    "- number of batch\n",
    "- number of buses\n",
    "- number of generators"
   ]
  },
  {
   "cell_type": "code",
   "execution_count": 15,
   "metadata": {
    "ExecuteTime": {
     "end_time": "2021-05-16T22:04:34.570219Z",
     "start_time": "2021-05-16T22:04:34.565661Z"
    }
   },
   "outputs": [
    {
     "data": {
      "text/plain": [
       "(torch.Size([24, 1]), torch.Size([24, 6]))"
      ]
     },
     "execution_count": 15,
     "metadata": {},
     "output_type": "execute_result"
    }
   ],
   "source": [
    "feature, label = next(iter(train_loader))\n",
    "feature.shape, label.shape"
   ]
  },
  {
   "cell_type": "code",
   "execution_count": 16,
   "metadata": {
    "ExecuteTime": {
     "end_time": "2021-05-16T22:04:34.576100Z",
     "start_time": "2021-05-16T22:04:34.571739Z"
    }
   },
   "outputs": [
    {
     "data": {
      "text/plain": [
       "(torch.Size([24, 1]), torch.Size([24, 6]))"
      ]
     },
     "execution_count": 16,
     "metadata": {},
     "output_type": "execute_result"
    }
   ],
   "source": [
    "feature, label = next(iter(val_loader))\n",
    "feature.shape, label.shape"
   ]
  },
  {
   "cell_type": "code",
   "execution_count": 17,
   "metadata": {
    "ExecuteTime": {
     "end_time": "2021-05-16T22:04:34.581306Z",
     "start_time": "2021-05-16T22:04:34.577464Z"
    }
   },
   "outputs": [
    {
     "data": {
      "text/plain": [
       "(torch.Size([24, 1]), torch.Size([24, 6]))"
      ]
     },
     "execution_count": 17,
     "metadata": {},
     "output_type": "execute_result"
    }
   ],
   "source": [
    "feature, label = next(iter(test_loader))\n",
    "feature.shape, label.shape"
   ]
  },
  {
   "cell_type": "markdown",
   "metadata": {},
   "source": [
    "### Set a model"
   ]
  },
  {
   "cell_type": "code",
   "execution_count": 18,
   "metadata": {
    "ExecuteTime": {
     "end_time": "2021-05-16T22:04:34.588425Z",
     "start_time": "2021-05-16T22:04:34.582889Z"
    }
   },
   "outputs": [
    {
     "data": {
      "text/plain": [
       "GCN(\n",
       "  (layers): ModuleList(\n",
       "    (0): GraphConv(in=1, out=64, normalization=both, activation=<function relu at 0x7f8a390ff050>)\n",
       "    (1): GraphConv(in=64, out=64, normalization=both, activation=<function relu at 0x7f8a390ff050>)\n",
       "    (2): GraphConv(in=64, out=64, normalization=both, activation=<function relu at 0x7f8a390ff050>)\n",
       "    (3): GraphConv(in=64, out=6, normalization=both, activation=None)\n",
       "  )\n",
       "  (dropout): Dropout(p=0, inplace=False)\n",
       "  (tanh): Tanh()\n",
       ")"
      ]
     },
     "execution_count": 18,
     "metadata": {},
     "output_type": "execute_result"
    }
   ],
   "source": [
    "# gcn = GraphConvNet(in_feats=feature.shape[1], out_feats=label.shape[1]) # num_bus / num_gen\n",
    "\n",
    "gcn = GCN(g=g,\n",
    "          in_feats=feature.shape[1],\n",
    "          n_hidden=64,\n",
    "          n_classes=label.shape[1],\n",
    "          n_layers=3,\n",
    "          activation=F.relu,\n",
    "          dropout=0)\n",
    "\n",
    "# loss object\n",
    "# loss_func = nn.BCEWithLogitsLoss()\n",
    "loss_func = nn.MSELoss()\n",
    "\n",
    "# optim\n",
    "optimizer = optim.Adam(gcn.parameters(), lr=lr)\n",
    "\n",
    "gcn.eval()"
   ]
  },
  {
   "cell_type": "markdown",
   "metadata": {},
   "source": [
    "### Train the model"
   ]
  },
  {
   "cell_type": "code",
   "execution_count": 19,
   "metadata": {
    "ExecuteTime": {
     "end_time": "2021-05-16T23:09:41.143514Z",
     "start_time": "2021-05-16T22:04:34.589883Z"
    },
    "scrolled": false
   },
   "outputs": [
    {
     "name": "stdout",
     "output_type": "stream",
     "text": [
      "> case: pglib_opf_case24_ieee_rts\n",
      "> model: gcn\n",
      "- num of params: 8838\n",
      "- training\n",
      "\t[epoch: 1, iter:  1000]\tloss: 0.17896\tval loss: 0.17587\n",
      "\t[epoch: 1, iter:  2000]\tloss: 0.17396\tval loss: 0.17255\n",
      "\t[epoch: 1, iter:  3000]\tloss: 0.17178\tval loss: 0.17177\n",
      "\t[epoch: 1, iter:  4000]\tloss: 0.17104\tval loss: 0.16935\n",
      "\t[epoch: 1, iter:  5000]\tloss: 0.16959\tval loss: 0.16907\n",
      "\t[epoch: 1, iter:  6000]\tloss: 0.16913\tval loss: 0.16744\n",
      "\t[epoch: 1, iter:  7000]\tloss: 0.16758\tval loss: 0.16622\n",
      "\t[epoch: 1, iter:  8000]\tloss: 0.16709\tval loss: 0.16537\n",
      "\t[epoch: 1, iter:  9000]\tloss: 0.16548\tval loss: 0.16489\n",
      "\t[epoch: 1, iter: 10000]\tloss: 0.16383\tval loss: 0.16661\n",
      "\t[epoch: 1, iter: 11000]\tloss: 0.16155\tval loss: 0.15819\n",
      "\t[epoch: 1, iter: 12000]\tloss: 0.15967\tval loss: 0.15840\n",
      "\t[epoch: 1, iter: 13000]\tloss: 0.15589\tval loss: 0.15304\n",
      "\t[epoch: 1, iter: 14000]\tloss: 0.15121\tval loss: 0.15217\n",
      "\t[epoch: 1, iter: 15000]\tloss: 0.14914\tval loss: 0.14557\n",
      "\t[epoch: 1, iter: 16000]\tloss: 0.14558\tval loss: 0.14810\n",
      "\t[epoch: 1, iter: 17000]\tloss: 0.14372\tval loss: 0.14783\n",
      "\t[epoch: 1, iter: 18000]\tloss: 0.14011\tval loss: 0.14467\n",
      "\t[epoch: 1, iter: 19000]\tloss: 0.13983\tval loss: 0.13916\n",
      "\t[epoch: 1, iter: 20000]\tloss: 0.13983\tval loss: 0.13565\n",
      "\t[epoch: 1, iter: 21000]\tloss: 0.13700\tval loss: 0.13630\n",
      "\t- validation loss decreased (inf->0.13630): the best model was updated.\n",
      "\t[epoch: 2, iter:  1000]\tloss: 0.13645\tval loss: 0.13385\n",
      "\t[epoch: 2, iter:  2000]\tloss: 0.13420\tval loss: 0.13225\n",
      "\t[epoch: 2, iter:  3000]\tloss: 0.13587\tval loss: 0.13135\n",
      "\t[epoch: 2, iter:  4000]\tloss: 0.13251\tval loss: 0.12865\n",
      "\t[epoch: 2, iter:  5000]\tloss: 0.13000\tval loss: 0.12620\n",
      "\t[epoch: 2, iter:  6000]\tloss: 0.12930\tval loss: 0.12998\n",
      "\t[epoch: 2, iter:  7000]\tloss: 0.12732\tval loss: 0.12645\n",
      "\t[epoch: 2, iter:  8000]\tloss: 0.12714\tval loss: 0.12253\n",
      "\t[epoch: 2, iter:  9000]\tloss: 0.12494\tval loss: 0.12117\n",
      "\t[epoch: 2, iter: 10000]\tloss: 0.12327\tval loss: 0.12027\n",
      "\t[epoch: 2, iter: 11000]\tloss: 0.12174\tval loss: 0.11780\n",
      "\t[epoch: 2, iter: 12000]\tloss: 0.12009\tval loss: 0.12078\n",
      "\t[epoch: 2, iter: 13000]\tloss: 0.11752\tval loss: 0.11248\n",
      "\t[epoch: 2, iter: 14000]\tloss: 0.11611\tval loss: 0.11286\n",
      "\t[epoch: 2, iter: 15000]\tloss: 0.11388\tval loss: 0.10874\n",
      "\t[epoch: 2, iter: 16000]\tloss: 0.11242\tval loss: 0.10874\n",
      "\t[epoch: 2, iter: 17000]\tloss: 0.10967\tval loss: 0.11256\n",
      "\t[epoch: 2, iter: 18000]\tloss: 0.10974\tval loss: 0.11211\n",
      "\t[epoch: 2, iter: 19000]\tloss: 0.10623\tval loss: 0.10454\n",
      "\t[epoch: 2, iter: 20000]\tloss: 0.10577\tval loss: 0.10606\n",
      "\t[epoch: 2, iter: 21000]\tloss: 0.10360\tval loss: 0.10036\n",
      "\t- validation loss decreased (0.13630->0.10036): the best model was updated.\n",
      "\t[epoch: 3, iter:  1000]\tloss: 0.10304\tval loss: 0.10290\n",
      "\t[epoch: 3, iter:  2000]\tloss: 0.10004\tval loss: 0.09966\n",
      "\t[epoch: 3, iter:  3000]\tloss: 0.09985\tval loss: 0.09591\n",
      "\t[epoch: 3, iter:  4000]\tloss: 0.09736\tval loss: 0.09384\n",
      "\t[epoch: 3, iter:  5000]\tloss: 0.09550\tval loss: 0.09277\n",
      "\t[epoch: 3, iter:  6000]\tloss: 0.09574\tval loss: 0.09378\n",
      "\t[epoch: 3, iter:  7000]\tloss: 0.09422\tval loss: 0.09379\n",
      "\t[epoch: 3, iter:  8000]\tloss: 0.09175\tval loss: 0.08773\n",
      "\t[epoch: 3, iter:  9000]\tloss: 0.08988\tval loss: 0.08536\n",
      "\t[epoch: 3, iter: 10000]\tloss: 0.09010\tval loss: 0.08730\n",
      "\t[epoch: 3, iter: 11000]\tloss: 0.08734\tval loss: 0.08892\n",
      "\t[epoch: 3, iter: 12000]\tloss: 0.08823\tval loss: 0.08396\n",
      "\t[epoch: 3, iter: 13000]\tloss: 0.08516\tval loss: 0.08563\n",
      "\t[epoch: 3, iter: 14000]\tloss: 0.08487\tval loss: 0.08129\n",
      "\t[epoch: 3, iter: 15000]\tloss: 0.08532\tval loss: 0.08658\n",
      "\t[epoch: 3, iter: 16000]\tloss: 0.08145\tval loss: 0.07934\n",
      "\t[epoch: 3, iter: 17000]\tloss: 0.08219\tval loss: 0.07967\n",
      "\t[epoch: 3, iter: 18000]\tloss: 0.08188\tval loss: 0.07734\n",
      "\t[epoch: 3, iter: 19000]\tloss: 0.08089\tval loss: 0.07703\n",
      "\t[epoch: 3, iter: 20000]\tloss: 0.08161\tval loss: 0.07706\n",
      "\t[epoch: 3, iter: 21000]\tloss: 0.07832\tval loss: 0.07818\n",
      "\t- validation loss decreased (0.10036->0.07818): the best model was updated.\n",
      "\t[epoch: 4, iter:  1000]\tloss: 0.07820\tval loss: 0.07509\n",
      "\t[epoch: 4, iter:  2000]\tloss: 0.07588\tval loss: 0.08431\n",
      "\t[epoch: 4, iter:  3000]\tloss: 0.07631\tval loss: 0.07343\n",
      "\t[epoch: 4, iter:  4000]\tloss: 0.07472\tval loss: 0.07364\n",
      "\t[epoch: 4, iter:  5000]\tloss: 0.07392\tval loss: 0.07137\n",
      "\t[epoch: 4, iter:  6000]\tloss: 0.07286\tval loss: 0.07185\n",
      "\t[epoch: 4, iter:  7000]\tloss: 0.07458\tval loss: 0.07476\n",
      "\t[epoch: 4, iter:  8000]\tloss: 0.07305\tval loss: 0.06970\n",
      "\t[epoch: 4, iter:  9000]\tloss: 0.07371\tval loss: 0.06898\n",
      "\t[epoch: 4, iter: 10000]\tloss: 0.06973\tval loss: 0.06883\n",
      "\t[epoch: 4, iter: 11000]\tloss: 0.07030\tval loss: 0.06943\n",
      "\t[epoch: 4, iter: 12000]\tloss: 0.07013\tval loss: 0.06730\n",
      "\t[epoch: 4, iter: 13000]\tloss: 0.06922\tval loss: 0.06745\n",
      "\t[epoch: 4, iter: 14000]\tloss: 0.06863\tval loss: 0.06954\n",
      "\t[epoch: 4, iter: 15000]\tloss: 0.06800\tval loss: 0.06383\n",
      "\t[epoch: 4, iter: 16000]\tloss: 0.06826\tval loss: 0.06639\n",
      "\t[epoch: 4, iter: 17000]\tloss: 0.06667\tval loss: 0.06845\n",
      "\t[epoch: 4, iter: 18000]\tloss: 0.06611\tval loss: 0.06609\n",
      "\t[epoch: 4, iter: 19000]\tloss: 0.06554\tval loss: 0.06397\n",
      "\t[epoch: 4, iter: 20000]\tloss: 0.06544\tval loss: 0.07356\n",
      "\t[epoch: 4, iter: 21000]\tloss: 0.06329\tval loss: 0.06574\n",
      "\t- validation loss decreased (0.07818->0.06574): the best model was updated.\n",
      "\t[epoch: 5, iter:  1000]\tloss: 0.06403\tval loss: 0.05999\n",
      "\t[epoch: 5, iter:  2000]\tloss: 0.06184\tval loss: 0.06420\n",
      "\t[epoch: 5, iter:  3000]\tloss: 0.06119\tval loss: 0.05917\n",
      "\t[epoch: 5, iter:  4000]\tloss: 0.06076\tval loss: 0.05923\n",
      "\t[epoch: 5, iter:  5000]\tloss: 0.05909\tval loss: 0.05865\n",
      "\t[epoch: 5, iter:  6000]\tloss: 0.05818\tval loss: 0.05722\n",
      "\t[epoch: 5, iter:  7000]\tloss: 0.05677\tval loss: 0.05837\n",
      "\t[epoch: 5, iter:  8000]\tloss: 0.05807\tval loss: 0.05739\n",
      "\t[epoch: 5, iter:  9000]\tloss: 0.05652\tval loss: 0.05387\n",
      "\t[epoch: 5, iter: 10000]\tloss: 0.05716\tval loss: 0.05412\n",
      "\t[epoch: 5, iter: 11000]\tloss: 0.05507\tval loss: 0.05744\n",
      "\t[epoch: 5, iter: 12000]\tloss: 0.05516\tval loss: 0.05266\n",
      "\t[epoch: 5, iter: 13000]\tloss: 0.05442\tval loss: 0.05384\n",
      "\t[epoch: 5, iter: 14000]\tloss: 0.05417\tval loss: 0.05642\n",
      "\t[epoch: 5, iter: 15000]\tloss: 0.05339\tval loss: 0.05938\n",
      "\t[epoch: 5, iter: 16000]\tloss: 0.05288\tval loss: 0.05071\n",
      "\t[epoch: 5, iter: 17000]\tloss: 0.05379\tval loss: 0.05109\n",
      "\t[epoch: 5, iter: 18000]\tloss: 0.05228\tval loss: 0.05300\n",
      "\t[epoch: 5, iter: 19000]\tloss: 0.05126\tval loss: 0.05177\n",
      "\t[epoch: 5, iter: 20000]\tloss: 0.05085\tval loss: 0.05132\n",
      "\t[epoch: 5, iter: 21000]\tloss: 0.05188\tval loss: 0.04970\n",
      "\t- validation loss decreased (0.06574->0.04970): the best model was updated.\n",
      "\t[epoch: 6, iter:  1000]\tloss: 0.05121\tval loss: 0.04850\n",
      "\t[epoch: 6, iter:  2000]\tloss: 0.05064\tval loss: 0.04789\n",
      "\t[epoch: 6, iter:  3000]\tloss: 0.04986\tval loss: 0.05135\n",
      "\t[epoch: 6, iter:  4000]\tloss: 0.04965\tval loss: 0.05221\n",
      "\t[epoch: 6, iter:  5000]\tloss: 0.04920\tval loss: 0.04803\n",
      "\t[epoch: 6, iter:  6000]\tloss: 0.04981\tval loss: 0.04786\n",
      "\t[epoch: 6, iter:  7000]\tloss: 0.04836\tval loss: 0.05644\n",
      "\t[epoch: 6, iter:  8000]\tloss: 0.04853\tval loss: 0.04595\n",
      "\t[epoch: 6, iter:  9000]\tloss: 0.04890\tval loss: 0.04906\n",
      "\t[epoch: 6, iter: 10000]\tloss: 0.04822\tval loss: 0.04585\n",
      "\t[epoch: 6, iter: 11000]\tloss: 0.04797\tval loss: 0.04843\n",
      "\t[epoch: 6, iter: 12000]\tloss: 0.04780\tval loss: 0.04506\n",
      "\t[epoch: 6, iter: 13000]\tloss: 0.04800\tval loss: 0.04666\n",
      "\t[epoch: 6, iter: 14000]\tloss: 0.04696\tval loss: 0.04984\n",
      "\t[epoch: 6, iter: 15000]\tloss: 0.04650\tval loss: 0.04543\n",
      "\t[epoch: 6, iter: 16000]\tloss: 0.04666\tval loss: 0.05010\n",
      "\t[epoch: 6, iter: 17000]\tloss: 0.04645\tval loss: 0.04527\n",
      "\t[epoch: 6, iter: 18000]\tloss: 0.04664\tval loss: 0.04730\n",
      "\t[epoch: 6, iter: 19000]\tloss: 0.04649\tval loss: 0.04434\n",
      "\t[epoch: 6, iter: 20000]\tloss: 0.04656\tval loss: 0.04504\n",
      "\t[epoch: 6, iter: 21000]\tloss: 0.04553\tval loss: 0.04459\n",
      "\t- validation loss decreased (0.04970->0.04459): the best model was updated.\n",
      "\t[epoch: 7, iter:  1000]\tloss: 0.04631\tval loss: 0.04337\n",
      "\t[epoch: 7, iter:  2000]\tloss: 0.04561\tval loss: 0.04429\n",
      "\t[epoch: 7, iter:  3000]\tloss: 0.04485\tval loss: 0.04461\n",
      "\t[epoch: 7, iter:  4000]\tloss: 0.04544\tval loss: 0.04386\n",
      "\t[epoch: 7, iter:  5000]\tloss: 0.04583\tval loss: 0.04787\n",
      "\t[epoch: 7, iter:  6000]\tloss: 0.04450\tval loss: 0.04416\n",
      "\t[epoch: 7, iter:  7000]\tloss: 0.04413\tval loss: 0.04479\n",
      "\t[epoch: 7, iter:  8000]\tloss: 0.04441\tval loss: 0.04399\n",
      "\t[epoch: 7, iter:  9000]\tloss: 0.04453\tval loss: 0.04328\n"
     ]
    },
    {
     "name": "stdout",
     "output_type": "stream",
     "text": [
      "\t[epoch: 7, iter: 10000]\tloss: 0.04391\tval loss: 0.04322\n",
      "\t[epoch: 7, iter: 11000]\tloss: 0.04427\tval loss: 0.04540\n",
      "\t[epoch: 7, iter: 12000]\tloss: 0.04321\tval loss: 0.04215\n",
      "\t[epoch: 7, iter: 13000]\tloss: 0.04318\tval loss: 0.04132\n",
      "\t[epoch: 7, iter: 14000]\tloss: 0.04333\tval loss: 0.04355\n",
      "\t[epoch: 7, iter: 15000]\tloss: 0.04347\tval loss: 0.04170\n",
      "\t[epoch: 7, iter: 16000]\tloss: 0.04295\tval loss: 0.04607\n",
      "\t[epoch: 7, iter: 17000]\tloss: 0.04331\tval loss: 0.04396\n",
      "\t[epoch: 7, iter: 18000]\tloss: 0.04242\tval loss: 0.04062\n",
      "\t[epoch: 7, iter: 19000]\tloss: 0.04308\tval loss: 0.04052\n",
      "\t[epoch: 7, iter: 20000]\tloss: 0.04324\tval loss: 0.04174\n",
      "\t[epoch: 7, iter: 21000]\tloss: 0.04205\tval loss: 0.04109\n",
      "\t- validation loss decreased (0.04459->0.04109): the best model was updated.\n",
      "\t[epoch: 8, iter:  1000]\tloss: 0.04133\tval loss: 0.04201\n",
      "\t[epoch: 8, iter:  2000]\tloss: 0.04237\tval loss: 0.03961\n",
      "\t[epoch: 8, iter:  3000]\tloss: 0.04208\tval loss: 0.03929\n",
      "\t[epoch: 8, iter:  4000]\tloss: 0.04154\tval loss: 0.04050\n",
      "\t[epoch: 8, iter:  5000]\tloss: 0.04113\tval loss: 0.04043\n",
      "\t[epoch: 8, iter:  6000]\tloss: 0.04159\tval loss: 0.03946\n",
      "\t[epoch: 8, iter:  7000]\tloss: 0.04090\tval loss: 0.03988\n",
      "\t[epoch: 8, iter:  8000]\tloss: 0.04072\tval loss: 0.03827\n",
      "\t[epoch: 8, iter:  9000]\tloss: 0.04074\tval loss: 0.03938\n",
      "\t[epoch: 8, iter: 10000]\tloss: 0.04024\tval loss: 0.04040\n",
      "\t[epoch: 8, iter: 11000]\tloss: 0.04059\tval loss: 0.04514\n",
      "\t[epoch: 8, iter: 12000]\tloss: 0.04022\tval loss: 0.04237\n",
      "\t[epoch: 8, iter: 13000]\tloss: 0.03991\tval loss: 0.03990\n",
      "\t[epoch: 8, iter: 14000]\tloss: 0.04006\tval loss: 0.04156\n",
      "\t[epoch: 8, iter: 15000]\tloss: 0.04012\tval loss: 0.03797\n",
      "\t[epoch: 8, iter: 16000]\tloss: 0.03972\tval loss: 0.03796\n",
      "\t[epoch: 8, iter: 17000]\tloss: 0.03952\tval loss: 0.03817\n",
      "\t[epoch: 8, iter: 18000]\tloss: 0.04004\tval loss: 0.03870\n",
      "\t[epoch: 8, iter: 19000]\tloss: 0.03910\tval loss: 0.03829\n",
      "\t[epoch: 8, iter: 20000]\tloss: 0.03913\tval loss: 0.04248\n",
      "\t[epoch: 8, iter: 21000]\tloss: 0.03940\tval loss: 0.04840\n",
      "\t[epoch: 9, iter:  1000]\tloss: 0.03875\tval loss: 0.03809\n",
      "\t[epoch: 9, iter:  2000]\tloss: 0.03884\tval loss: 0.03785\n",
      "\t[epoch: 9, iter:  3000]\tloss: 0.03832\tval loss: 0.03999\n",
      "\t[epoch: 9, iter:  4000]\tloss: 0.03808\tval loss: 0.03640\n",
      "\t[epoch: 9, iter:  5000]\tloss: 0.03846\tval loss: 0.03670\n",
      "\t[epoch: 9, iter:  6000]\tloss: 0.03805\tval loss: 0.03589\n",
      "\t[epoch: 9, iter:  7000]\tloss: 0.03807\tval loss: 0.03683\n",
      "\t[epoch: 9, iter:  8000]\tloss: 0.03810\tval loss: 0.03806\n",
      "\t[epoch: 9, iter:  9000]\tloss: 0.03797\tval loss: 0.03613\n",
      "\t[epoch: 9, iter: 10000]\tloss: 0.03729\tval loss: 0.03676\n",
      "\t[epoch: 9, iter: 11000]\tloss: 0.03708\tval loss: 0.03858\n",
      "\t[epoch: 9, iter: 12000]\tloss: 0.03786\tval loss: 0.03555\n",
      "\t[epoch: 9, iter: 13000]\tloss: 0.03690\tval loss: 0.03660\n",
      "\t[epoch: 9, iter: 14000]\tloss: 0.03757\tval loss: 0.03571\n",
      "\t[epoch: 9, iter: 15000]\tloss: 0.03718\tval loss: 0.03470\n",
      "\t[epoch: 9, iter: 16000]\tloss: 0.03654\tval loss: 0.03669\n",
      "\t[epoch: 9, iter: 17000]\tloss: 0.03700\tval loss: 0.03594\n",
      "\t[epoch: 9, iter: 18000]\tloss: 0.03787\tval loss: 0.03605\n",
      "\t[epoch: 9, iter: 19000]\tloss: 0.03643\tval loss: 0.03512\n",
      "\t[epoch: 9, iter: 20000]\tloss: 0.03644\tval loss: 0.03518\n",
      "\t[epoch: 9, iter: 21000]\tloss: 0.03626\tval loss: 0.03865\n",
      "\t- validation loss decreased (0.04109->0.03865): the best model was updated.\n",
      "\t[epoch: 10, iter:  1000]\tloss: 0.03657\tval loss: 0.03822\n",
      "\t[epoch: 10, iter:  2000]\tloss: 0.03659\tval loss: 0.03482\n",
      "\t[epoch: 10, iter:  3000]\tloss: 0.03630\tval loss: 0.03696\n",
      "\t[epoch: 10, iter:  4000]\tloss: 0.03557\tval loss: 0.03754\n",
      "\t[epoch: 10, iter:  5000]\tloss: 0.03660\tval loss: 0.03473\n",
      "\t[epoch: 10, iter:  6000]\tloss: 0.03537\tval loss: 0.03531\n",
      "\t[epoch: 10, iter:  7000]\tloss: 0.03575\tval loss: 0.03608\n",
      "\t[epoch: 10, iter:  8000]\tloss: 0.03582\tval loss: 0.03385\n",
      "\t[epoch: 10, iter:  9000]\tloss: 0.03544\tval loss: 0.03486\n",
      "\t[epoch: 10, iter: 10000]\tloss: 0.03523\tval loss: 0.03340\n",
      "\t[epoch: 10, iter: 11000]\tloss: 0.03485\tval loss: 0.03321\n",
      "\t[epoch: 10, iter: 12000]\tloss: 0.03472\tval loss: 0.03932\n",
      "\t[epoch: 10, iter: 13000]\tloss: 0.03552\tval loss: 0.03589\n",
      "\t[epoch: 10, iter: 14000]\tloss: 0.03484\tval loss: 0.03377\n",
      "\t[epoch: 10, iter: 15000]\tloss: 0.03453\tval loss: 0.03292\n",
      "\t[epoch: 10, iter: 16000]\tloss: 0.03487\tval loss: 0.03373\n",
      "\t[epoch: 10, iter: 17000]\tloss: 0.03450\tval loss: 0.03339\n",
      "\t[epoch: 10, iter: 18000]\tloss: 0.03489\tval loss: 0.03259\n",
      "\t[epoch: 10, iter: 19000]\tloss: 0.03396\tval loss: 0.03264\n",
      "\t[epoch: 10, iter: 20000]\tloss: 0.03511\tval loss: 0.03404\n",
      "\t[epoch: 10, iter: 21000]\tloss: 0.03435\tval loss: 0.03445\n",
      "\t- validation loss decreased (0.03865->0.03445): the best model was updated.\n"
     ]
    }
   ],
   "source": [
    "train_history, val_history = train(net=gcn,\n",
    "      train_loader=train_loader,\n",
    "      val_loader=val_loader,\n",
    "      optimizer=optimizer,\n",
    "      loss_func=loss_func,\n",
    "      model_name=model_name,\n",
    "      dataset_name=test_case,\n",
    "      num_epochs=num_epochs,\n",
    "      print_step=print_step)"
   ]
  },
  {
   "cell_type": "code",
   "execution_count": 23,
   "metadata": {
    "ExecuteTime": {
     "end_time": "2021-05-17T00:17:46.947801Z",
     "start_time": "2021-05-17T00:17:46.750260Z"
    }
   },
   "outputs": [
    {
     "data": {
      "image/png": "[encoded data removed]",
      "text/plain": [
       "<Figure size 576x432 with 1 Axes>"
      ]
     },
     "metadata": {
      "needs_background": "light"
     },
     "output_type": "display_data"
    }
   ],
   "source": [
    "plt.plot(train_history, label=\"train\")\n",
    "plt.plot(val_history, label=\"val\")\n",
    "plt.title(test_case, fontsize=15)\n",
    "plt.xlabel(\"iteration\", fontsize=13)\n",
    "plt.ylabel(\"loss\", fontsize=13)\n",
    "plt.ylim(0.015, 0.2)\n",
    "plt.legend(fontsize=13)\n",
    "plt.show()"
   ]
  },
  {
   "cell_type": "markdown",
   "metadata": {},
   "source": [
    "### Test the model"
   ]
  },
  {
   "cell_type": "code",
   "execution_count": 21,
   "metadata": {
    "ExecuteTime": {
     "end_time": "2021-05-16T23:09:41.421903Z",
     "start_time": "2021-05-16T23:09:41.414512Z"
    }
   },
   "outputs": [],
   "source": [
    "def test(net, test_loader, model_name, dataset_name, threshold=0.4):\n",
    "    print(\"- testing\")\n",
    "\n",
    "    # load the best model\n",
    "    load_model(net, model_name, dataset_name)\n",
    "\n",
    "    accuracy = []\n",
    "    with torch.no_grad():\n",
    "        for data in test_loader:\n",
    "            inputs, labels = data\n",
    "            preds = net(inputs)\n",
    "            \n",
    "            for i in range(preds.shape[0]):\n",
    "                for j in range(preds.shape[1]):\n",
    "                    if preds[i][j] > threshold:\n",
    "                        preds[i][j] = 1\n",
    "                    elif preds[i][j] < threshold:\n",
    "                        preds[i][j] = -1\n",
    "                    else:\n",
    "                        preds[i][j] = 0\n",
    "            \n",
    "\n",
    "            correct = (preds == labels).sum().item()\n",
    "            total = labels.shape[0]\n",
    "\n",
    "            acc = correct / total\n",
    "            accuracy.append(acc)\n",
    "\n",
    "    print(\"\\taccuracy: {:.4f}%\".format(mean(accuracy) * 100))"
   ]
  },
  {
   "cell_type": "code",
   "execution_count": 22,
   "metadata": {
    "ExecuteTime": {
     "end_time": "2021-05-16T23:09:56.500244Z",
     "start_time": "2021-05-16T23:09:41.423505Z"
    }
   },
   "outputs": [
    {
     "name": "stdout",
     "output_type": "stream",
     "text": [
      "- testing\n",
      "\taccuracy: 111.6947%\n"
     ]
    }
   ],
   "source": [
    "test(net=gcn,\n",
    "     test_loader=test_loader,\n",
    "     model_name=\"gcn\",\n",
    "     dataset_name=test_case,\n",
    "     threshold=0.001)"
   ]
  },
  {
   "cell_type": "code",
   "execution_count": null,
   "metadata": {},
   "outputs": [],
   "source": []
  },
  {
   "cell_type": "code",
   "execution_count": null,
   "metadata": {},
   "outputs": [],
   "source": []
  }
 ],
 "metadata": {
  "kernelspec": {
   "display_name": "Python 3",
   "language": "python",
   "name": "python3"
  },
  "language_info": {
   "codemirror_mode": {
    "name": "ipython",
    "version": 3
   },
   "file_extension": ".py",
   "mimetype": "text/x-python",
   "name": "python",
   "nbconvert_exporter": "python",
   "pygments_lexer": "ipython3",
   "version": "3.7.9"
  },
  "latex_envs": {
   "LaTeX_envs_menu_present": true,
   "autoclose": false,
   "autocomplete": true,
   "bibliofile": "biblio.bib",
   "cite_by": "apalike",
   "current_citInitial": 1,
   "eqLabelWithNumbers": true,
   "eqNumInitial": 1,
   "hotkeys": {
    "equation": "Ctrl-E",
    "itemize": "Ctrl-I"
   },
   "labels_anchors": false,
   "latex_user_defs": false,
   "report_style_numbering": false,
   "user_envs_cfg": false
  },
  "toc": {
   "base_numbering": 1,
   "nav_menu": {},
   "number_sections": false,
   "sideBar": true,
   "skip_h1_title": false,
   "title_cell": "Table of Contents",
   "title_sidebar": "Contents",
   "toc_cell": false,
   "toc_position": {
    "height": "calc(100% - 180px)",
    "left": "10px",
    "top": "150px",
    "width": "256px"
   },
   "toc_section_display": true,
   "toc_window_display": true
  },
  "varInspector": {
   "cols": {
    "lenName": 16,
    "lenType": 16,
    "lenVar": 40
   },
   "kernels_config": {
    "python": {
     "delete_cmd_postfix": "",
     "delete_cmd_prefix": "del ",
     "library": "var_list.py",
     "varRefreshCmd": "print(var_dic_list())"
    },
    "r": {
     "delete_cmd_postfix": ") ",
     "delete_cmd_prefix": "rm(",
     "library": "var_list.r",
     "varRefreshCmd": "cat(var_dic_list()) "
    }
   },
   "types_to_exclude": [
    "module",
    "function",
    "builtin_function_or_method",
    "instance",
    "_Feature"
   ],
   "window_display": false
  }
 },
 "nbformat": 4,
 "nbformat_minor": 2
}

{
 "cells": [
  {
   "cell_type": "markdown",
   "metadata": {},
   "source": [
    "# DenseNets"
   ]
  },
  {
   "cell_type": "code",
   "execution_count": 1,
   "metadata": {
    "ExecuteTime": {
     "end_time": "2021-05-12T02:53:30.409991Z",
     "start_time": "2021-05-12T02:53:30.406332Z"
    }
   },
   "outputs": [],
   "source": [
    "import sys\n",
    "sys.path.insert(0,'..')\n",
    "sys.path.insert(0,'../data generation')\n",
    "sys.path.insert(0,'../model architecture')"
   ]
  },
  {
   "cell_type": "code",
   "execution_count": 2,
   "metadata": {
    "ExecuteTime": {
     "end_time": "2021-05-12T02:53:37.690611Z",
     "start_time": "2021-05-12T02:53:30.992131Z"
    }
   },
   "outputs": [
    {
     "name": "stderr",
     "output_type": "stream",
     "text": [
      "Using backend: pytorch\n"
     ]
    }
   ],
   "source": [
    "from data_generator import load_dataset\n",
    "from models import *\n",
    "from experiment_tools import *\n",
    "from params import *"
   ]
  },
  {
   "cell_type": "markdown",
   "metadata": {},
   "source": [
    "## Dataset\n",
    "### Set hyper-parameters: dataset"
   ]
  },
  {
   "cell_type": "code",
   "execution_count": 3,
   "metadata": {
    "ExecuteTime": {
     "end_time": "2021-05-12T02:53:38.911486Z",
     "start_time": "2021-05-12T02:53:38.909299Z"
    }
   },
   "outputs": [],
   "source": [
    "test_cases, dataset_size, std_scaler, test_type = get_test_params()"
   ]
  },
  {
   "cell_type": "markdown",
   "metadata": {},
   "source": [
    "### Select a dataset"
   ]
  },
  {
   "cell_type": "code",
   "execution_count": 4,
   "metadata": {
    "ExecuteTime": {
     "end_time": "2021-05-12T02:53:39.850828Z",
     "start_time": "2021-05-12T02:53:39.845280Z"
    }
   },
   "outputs": [
    {
     "data": {
      "text/plain": [
       "'pglib_opf_case24_ieee_rts.m'"
      ]
     },
     "execution_count": 4,
     "metadata": {},
     "output_type": "execute_result"
    }
   ],
   "source": [
    "idx = 0\n",
    "test_case = test_cases[idx] \n",
    "test_case"
   ]
  },
  {
   "cell_type": "markdown",
   "metadata": {},
   "source": [
    "### Load a dataset"
   ]
  },
  {
   "cell_type": "code",
   "execution_count": 5,
   "metadata": {
    "ExecuteTime": {
     "end_time": "2021-05-12T02:53:40.898189Z",
     "start_time": "2021-05-12T02:53:40.891090Z"
    }
   },
   "outputs": [],
   "source": [
    "dataset = load_dataset(test_case=test_case,\n",
    "                       dataset_size=dataset_size,\n",
    "                       std_scaler=std_scaler,\n",
    "                       test_type=test_type,\n",
    "                       gen_only=True)"
   ]
  },
  {
   "cell_type": "markdown",
   "metadata": {},
   "source": [
    "### Check the shape of the dataset\n",
    "- number of samples\n",
    "- number of buses\n",
    "- number of generators"
   ]
  },
  {
   "cell_type": "code",
   "execution_count": 6,
   "metadata": {
    "ExecuteTime": {
     "end_time": "2021-05-12T02:53:41.759530Z",
     "start_time": "2021-05-12T02:53:41.755655Z"
    }
   },
   "outputs": [
    {
     "data": {
      "text/plain": [
       "((300, 24, 1), (300, 24, 6))"
      ]
     },
     "execution_count": 6,
     "metadata": {},
     "output_type": "execute_result"
    }
   ],
   "source": [
    "# (num_samples, num_buses),(num_samples, num_gens) \n",
    "dataset['x'].shape, dataset['y'].shape "
   ]
  },
  {
   "cell_type": "code",
   "execution_count": null,
   "metadata": {
    "ExecuteTime": {
     "end_time": "2021-05-12T02:31:25.252515Z",
     "start_time": "2021-05-12T02:31:25.249380Z"
    }
   },
   "outputs": [],
   "source": []
  },
  {
   "cell_type": "markdown",
   "metadata": {},
   "source": [
    "## Model\n",
    "### Set hyper-parameters: model"
   ]
  },
  {
   "cell_type": "code",
   "execution_count": 7,
   "metadata": {
    "ExecuteTime": {
     "end_time": "2021-05-12T02:53:43.063856Z",
     "start_time": "2021-05-12T02:53:43.061668Z"
    }
   },
   "outputs": [],
   "source": [
    "model_name = \"dense_net\"\n",
    "num_epochs, batch_size, lr = get_h_params(model_name)"
   ]
  },
  {
   "cell_type": "markdown",
   "metadata": {},
   "source": [
    "### Set data-loaders"
   ]
  },
  {
   "cell_type": "code",
   "execution_count": 8,
   "metadata": {
    "ExecuteTime": {
     "end_time": "2021-05-12T02:53:43.841857Z",
     "start_time": "2021-05-12T02:53:43.836958Z"
    }
   },
   "outputs": [
    {
     "name": "stderr",
     "output_type": "stream",
     "text": [
      "/Users/jeehyunpark/Library/Mobile Documents/com~apple~CloudDocs/jhyun/UT/EE 394V - DATA ANALYTICS POWER SYS/Project_EE394V_SPR2021/code/experiments/experiment_tools.py:31: RuntimeWarning: invalid value encountered in true_divide\n",
      "  x_normed = np.nan_to_num(dataset[\"x\"] / dataset[\"x\"].max(axis=0), nan=0.0)\n"
     ]
    }
   ],
   "source": [
    "train_loader, val_loader, test_loader = data_prep(dataset=dataset,\n",
    "                                                  batch_size=batch_size)"
   ]
  },
  {
   "cell_type": "markdown",
   "metadata": {},
   "source": [
    "### Check the shape of the data-loaders\n",
    "- number of batch\n",
    "- number of buses\n",
    "- number of generators"
   ]
  },
  {
   "cell_type": "code",
   "execution_count": 9,
   "metadata": {
    "ExecuteTime": {
     "end_time": "2021-05-12T02:53:44.652158Z",
     "start_time": "2021-05-12T02:53:44.646343Z"
    }
   },
   "outputs": [
    {
     "data": {
      "text/plain": [
       "(torch.Size([32, 24, 1]), torch.Size([32, 24, 6]))"
      ]
     },
     "execution_count": 9,
     "metadata": {},
     "output_type": "execute_result"
    }
   ],
   "source": [
    "feature, label = next(iter(train_loader))\n",
    "feature.shape, label.shape"
   ]
  },
  {
   "cell_type": "code",
   "execution_count": 10,
   "metadata": {
    "ExecuteTime": {
     "end_time": "2021-05-12T02:53:45.100388Z",
     "start_time": "2021-05-12T02:53:45.096156Z"
    }
   },
   "outputs": [
    {
     "data": {
      "text/plain": [
       "(torch.Size([32, 24, 1]), torch.Size([32, 24, 6]))"
      ]
     },
     "execution_count": 10,
     "metadata": {},
     "output_type": "execute_result"
    }
   ],
   "source": [
    "feature, label = next(iter(val_loader))\n",
    "feature.shape, label.shape"
   ]
  },
  {
   "cell_type": "code",
   "execution_count": 11,
   "metadata": {
    "ExecuteTime": {
     "end_time": "2021-05-12T02:53:45.561968Z",
     "start_time": "2021-05-12T02:53:45.558486Z"
    }
   },
   "outputs": [
    {
     "data": {
      "text/plain": [
       "(torch.Size([1, 24, 1]), torch.Size([1, 24, 6]))"
      ]
     },
     "execution_count": 11,
     "metadata": {},
     "output_type": "execute_result"
    }
   ],
   "source": [
    "feature, label = next(iter(test_loader))\n",
    "feature.shape, label.shape"
   ]
  },
  {
   "cell_type": "markdown",
   "metadata": {},
   "source": [
    "### Set a model"
   ]
  },
  {
   "cell_type": "code",
   "execution_count": 12,
   "metadata": {
    "ExecuteTime": {
     "end_time": "2021-05-12T02:53:51.484089Z",
     "start_time": "2021-05-12T02:53:51.478489Z"
    }
   },
   "outputs": [],
   "source": [
    "class DenseNet(nn.Module):\n",
    "    def __init__(self, input_dim, output_dim, node_num):\n",
    "        super(DenseNet, self).__init__()\n",
    "        self.node_num = node_num\n",
    "        self.output_dim = output_dim\n",
    "        self.flatten = nn.Flatten()\n",
    "        self.dense_1 = nn.Linear(node_num, 512)\n",
    "        self.dense_2 = nn.Linear(512, 512)\n",
    "        self.dense_3 = nn.Linear(512, self.node_num * self.output_dim)\n",
    "        self.tanh = nn.Tanh()  # tanh\n",
    "\n",
    "    def forward(self, x):\n",
    "        x = self.flatten(x)\n",
    "        x = F.relu(self.dense_1(x))\n",
    "        x = F.relu(self.dense_2(x))\n",
    "        x = self.dense_3(x)\n",
    "        x = torch.reshape(x, (-1, self.node_num, self.output_dim))\n",
    "        x = self.tanh(x)\n",
    "        return x"
   ]
  },
  {
   "cell_type": "code",
   "execution_count": 13,
   "metadata": {
    "ExecuteTime": {
     "end_time": "2021-05-12T02:53:51.990016Z",
     "start_time": "2021-05-12T02:53:51.979919Z"
    }
   },
   "outputs": [
    {
     "data": {
      "text/plain": [
       "DenseNet(\n",
       "  (flatten): Flatten(start_dim=1, end_dim=-1)\n",
       "  (dense_1): Linear(in_features=24, out_features=512, bias=True)\n",
       "  (dense_2): Linear(in_features=512, out_features=512, bias=True)\n",
       "  (dense_3): Linear(in_features=512, out_features=144, bias=True)\n",
       "  (tanh): Tanh()\n",
       ")"
      ]
     },
     "execution_count": 13,
     "metadata": {},
     "output_type": "execute_result"
    }
   ],
   "source": [
    "# model\n",
    "dense_net = DenseNet(dataset['x'].shape[2], dataset['y'].shape[2], dataset['y'].shape[1])\n",
    "\n",
    "# loss object\n",
    "loss_func = nn.MSELoss()\n",
    "\n",
    "# optim\n",
    "optimizer = optim.SGD(dense_net.parameters(), lr=lr, momentum=0.9)\n",
    "\n",
    "dense_net.eval()"
   ]
  },
  {
   "cell_type": "markdown",
   "metadata": {},
   "source": [
    "### Train the model"
   ]
  },
  {
   "cell_type": "code",
   "execution_count": 14,
   "metadata": {
    "ExecuteTime": {
     "end_time": "2021-05-12T02:53:54.545082Z",
     "start_time": "2021-05-12T02:53:54.481601Z"
    },
    "scrolled": false,
    "tags": []
   },
   "outputs": [
    {
     "name": "stdout",
     "output_type": "stream",
     "text": [
      "> case: pglib_opf_case24_ieee_rts\n",
      "> model: dense_net\n",
      "- num of params: 349328\n",
      "- training\n",
      "\t- validation loss decreased (inf->0.19538): the best model was updated.\n",
      "\t- validation loss decreased (0.19538->0.19463): the best model was updated.\n"
     ]
    }
   ],
   "source": [
    "train(net=dense_net,\n",
    "      train_loader=train_loader,\n",
    "      val_loader=val_loader,\n",
    "      optimizer=optimizer,\n",
    "      loss_func=loss_func,\n",
    "      model_name=model_name,\n",
    "      dataset_name=test_case,\n",
    "      num_epochs=num_epochs)"
   ]
  },
  {
   "cell_type": "markdown",
   "metadata": {},
   "source": [
    "### Test the model"
   ]
  },
  {
   "cell_type": "code",
   "execution_count": 15,
   "metadata": {
    "ExecuteTime": {
     "end_time": "2021-05-12T02:53:55.453668Z",
     "start_time": "2021-05-12T02:53:55.438641Z"
    }
   },
   "outputs": [
    {
     "name": "stdout",
     "output_type": "stream",
     "text": [
      "- testing\n",
      "\taccuracy: 489.5833%\n"
     ]
    }
   ],
   "source": [
    "test(net=dense_net,\n",
    "     test_loader=test_loader,\n",
    "     model_name=model_name,\n",
    "     dataset_name=test_case)"
   ]
  },
  {
   "cell_type": "code",
   "execution_count": null,
   "metadata": {},
   "outputs": [],
   "source": []
  },
  {
   "cell_type": "code",
   "execution_count": null,
   "metadata": {},
   "outputs": [],
   "source": []
  },
  {
   "cell_type": "code",
   "execution_count": null,
   "metadata": {},
   "outputs": [],
   "source": []
  }
 ],
 "metadata": {
  "kernelspec": {
   "display_name": "Python 3",
   "language": "python",
   "name": "python3"
  },
  "language_info": {
   "codemirror_mode": {
    "name": "ipython",
    "version": 3
   },
   "file_extension": ".py",
   "mimetype": "text/x-python",
   "name": "python",
   "nbconvert_exporter": "python",
   "pygments_lexer": "ipython3",
   "version": "3.7.9"
  },
  "latex_envs": {
   "LaTeX_envs_menu_present": true,
   "autoclose": false,
   "autocomplete": true,
   "bibliofile": "biblio.bib",
   "cite_by": "apalike",
   "current_citInitial": 1,
   "eqLabelWithNumbers": true,
   "eqNumInitial": 1,
   "hotkeys": {
    "equation": "Ctrl-E",
    "itemize": "Ctrl-I"
   },
   "labels_anchors": false,
   "latex_user_defs": false,
   "report_style_numbering": false,
   "user_envs_cfg": false
  },
  "toc": {
   "base_numbering": 1,
   "nav_menu": {},
   "number_sections": false,
   "sideBar": true,
   "skip_h1_title": false,
   "title_cell": "Table of Contents",
   "title_sidebar": "Contents",
   "toc_cell": false,
   "toc_position": {},
   "toc_section_display": true,
   "toc_window_display": true
  },
  "varInspector": {
   "cols": {
    "lenName": 16,
    "lenType": 16,
    "lenVar": 40
   },
   "kernels_config": {
    "python": {
     "delete_cmd_postfix": "",
     "delete_cmd_prefix": "del ",
     "library": "var_list.py",
     "varRefreshCmd": "print(var_dic_list())"
    },
    "r": {
     "delete_cmd_postfix": ") ",
     "delete_cmd_prefix": "rm(",
     "library": "var_list.r",
     "varRefreshCmd": "cat(var_dic_list()) "
    }
   },
   "types_to_exclude": [
    "module",
    "function",
    "builtin_function_or_method",
    "instance",
    "_Feature"
   ],
   "window_display": false
  }
 },
 "nbformat": 4,
 "nbformat_minor": 2
}

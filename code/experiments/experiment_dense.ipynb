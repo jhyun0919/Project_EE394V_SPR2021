{
 "cells": [
  {
   "cell_type": "markdown",
   "metadata": {},
   "source": [
    "# DenseNets"
   ]
  },
  {
   "cell_type": "code",
   "execution_count": 1,
   "metadata": {
    "ExecuteTime": {
     "end_time": "2021-05-12T03:00:31.940159Z",
     "start_time": "2021-05-12T03:00:31.937322Z"
    }
   },
   "outputs": [],
   "source": [
    "import sys\n",
    "sys.path.insert(0,'..')\n",
    "sys.path.insert(0,'../data generation')\n",
    "sys.path.insert(0,'../model architecture')"
   ]
  },
  {
   "cell_type": "code",
   "execution_count": 2,
   "metadata": {
    "ExecuteTime": {
     "end_time": "2021-05-12T03:00:37.761254Z",
     "start_time": "2021-05-12T03:00:31.942535Z"
    }
   },
   "outputs": [
    {
     "name": "stderr",
     "output_type": "stream",
     "text": [
      "Using backend: pytorch\n"
     ]
    }
   ],
   "source": [
    "from data_generator import load_dataset\n",
    "from models import *\n",
    "from experiment_tools import *\n",
    "from params import *"
   ]
  },
  {
   "cell_type": "markdown",
   "metadata": {},
   "source": [
    "## Dataset\n",
    "### Set hyper-parameters: dataset"
   ]
  },
  {
   "cell_type": "code",
   "execution_count": 3,
   "metadata": {
    "ExecuteTime": {
     "end_time": "2021-05-12T03:00:37.766779Z",
     "start_time": "2021-05-12T03:00:37.764008Z"
    }
   },
   "outputs": [],
   "source": [
    "test_cases, dataset_size, std_scaler, test_type = get_test_params()"
   ]
  },
  {
   "cell_type": "markdown",
   "metadata": {},
   "source": [
    "### Select a dataset"
   ]
  },
  {
   "cell_type": "code",
   "execution_count": 4,
   "metadata": {
    "ExecuteTime": {
     "end_time": "2021-05-12T03:00:37.774679Z",
     "start_time": "2021-05-12T03:00:37.768678Z"
    }
   },
   "outputs": [
    {
     "data": {
      "text/plain": [
       "'pglib_opf_case24_ieee_rts.m'"
      ]
     },
     "execution_count": 4,
     "metadata": {},
     "output_type": "execute_result"
    }
   ],
   "source": [
    "idx = 0\n",
    "test_case = test_cases[idx] \n",
    "test_case"
   ]
  },
  {
   "cell_type": "markdown",
   "metadata": {},
   "source": [
    "### Load a dataset"
   ]
  },
  {
   "cell_type": "code",
   "execution_count": 5,
   "metadata": {
    "ExecuteTime": {
     "end_time": "2021-05-12T03:00:37.798374Z",
     "start_time": "2021-05-12T03:00:37.777308Z"
    }
   },
   "outputs": [],
   "source": [
    "dataset = load_dataset(test_case=test_case,\n",
    "                       dataset_size=dataset_size,\n",
    "                       std_scaler=std_scaler,\n",
    "                       test_type=test_type,\n",
    "                       gen_only=True)"
   ]
  },
  {
   "cell_type": "markdown",
   "metadata": {},
   "source": [
    "### Check the shape of the dataset\n",
    "- number of samples\n",
    "- number of buses\n",
    "- number of generators"
   ]
  },
  {
   "cell_type": "code",
   "execution_count": 6,
   "metadata": {
    "ExecuteTime": {
     "end_time": "2021-05-12T03:00:37.804416Z",
     "start_time": "2021-05-12T03:00:37.800153Z"
    }
   },
   "outputs": [
    {
     "data": {
      "text/plain": [
       "((300, 24, 1), (300, 24, 6))"
      ]
     },
     "execution_count": 6,
     "metadata": {},
     "output_type": "execute_result"
    }
   ],
   "source": [
    "# (num_samples, num_buses),(num_samples, num_gens) \n",
    "dataset['x'].shape, dataset['y'].shape "
   ]
  },
  {
   "cell_type": "markdown",
   "metadata": {},
   "source": [
    "## Model\n",
    "### Set hyper-parameters: model"
   ]
  },
  {
   "cell_type": "code",
   "execution_count": 7,
   "metadata": {
    "ExecuteTime": {
     "end_time": "2021-05-12T03:00:37.808823Z",
     "start_time": "2021-05-12T03:00:37.806473Z"
    }
   },
   "outputs": [],
   "source": [
    "model_name = \"dense_net\"\n",
    "num_epochs, batch_size, lr = get_h_params(model_name)"
   ]
  },
  {
   "cell_type": "markdown",
   "metadata": {},
   "source": [
    "### Set data-loaders"
   ]
  },
  {
   "cell_type": "code",
   "execution_count": 8,
   "metadata": {
    "ExecuteTime": {
     "end_time": "2021-05-12T03:00:37.822632Z",
     "start_time": "2021-05-12T03:00:37.817547Z"
    }
   },
   "outputs": [
    {
     "name": "stderr",
     "output_type": "stream",
     "text": [
      "/Users/jeehyunpark/Library/Mobile Documents/com~apple~CloudDocs/jhyun/UT/EE 394V - DATA ANALYTICS POWER SYS/Project_EE394V_SPR2021/code/experiments/experiment_tools.py:31: RuntimeWarning: invalid value encountered in true_divide\n",
      "  x_normed = np.nan_to_num(dataset[\"x\"] / dataset[\"x\"].max(axis=0), nan=0.0)\n"
     ]
    }
   ],
   "source": [
    "train_loader, val_loader, test_loader = data_prep(dataset=dataset,\n",
    "                                                  batch_size=batch_size)"
   ]
  },
  {
   "cell_type": "markdown",
   "metadata": {},
   "source": [
    "### Check the shape of the data-loaders\n",
    "- number of batch\n",
    "- number of buses\n",
    "- number of generators"
   ]
  },
  {
   "cell_type": "code",
   "execution_count": 9,
   "metadata": {
    "ExecuteTime": {
     "end_time": "2021-05-12T03:00:37.829815Z",
     "start_time": "2021-05-12T03:00:37.824477Z"
    }
   },
   "outputs": [
    {
     "data": {
      "text/plain": [
       "(torch.Size([32, 24, 1]), torch.Size([32, 24, 6]))"
      ]
     },
     "execution_count": 9,
     "metadata": {},
     "output_type": "execute_result"
    }
   ],
   "source": [
    "feature, label = next(iter(train_loader))\n",
    "feature.shape, label.shape"
   ]
  },
  {
   "cell_type": "code",
   "execution_count": 10,
   "metadata": {
    "ExecuteTime": {
     "end_time": "2021-05-12T03:00:37.848511Z",
     "start_time": "2021-05-12T03:00:37.831376Z"
    }
   },
   "outputs": [
    {
     "data": {
      "text/plain": [
       "(torch.Size([32, 24, 1]), torch.Size([32, 24, 6]))"
      ]
     },
     "execution_count": 10,
     "metadata": {},
     "output_type": "execute_result"
    }
   ],
   "source": [
    "feature, label = next(iter(val_loader))\n",
    "feature.shape, label.shape"
   ]
  },
  {
   "cell_type": "code",
   "execution_count": 11,
   "metadata": {
    "ExecuteTime": {
     "end_time": "2021-05-12T03:00:37.855024Z",
     "start_time": "2021-05-12T03:00:37.850417Z"
    }
   },
   "outputs": [
    {
     "data": {
      "text/plain": [
       "(torch.Size([1, 24, 1]), torch.Size([1, 24, 6]))"
      ]
     },
     "execution_count": 11,
     "metadata": {},
     "output_type": "execute_result"
    }
   ],
   "source": [
    "feature, label = next(iter(test_loader))\n",
    "feature.shape, label.shape"
   ]
  },
  {
   "cell_type": "markdown",
   "metadata": {},
   "source": [
    "### Set a model"
   ]
  },
  {
   "cell_type": "code",
   "execution_count": 12,
   "metadata": {
    "ExecuteTime": {
     "end_time": "2021-05-12T03:00:37.864794Z",
     "start_time": "2021-05-12T03:00:37.856898Z"
    }
   },
   "outputs": [
    {
     "data": {
      "text/plain": [
       "DenseNet(\n",
       "  (flatten): Flatten(start_dim=1, end_dim=-1)\n",
       "  (dense_1): Linear(in_features=24, out_features=512, bias=True)\n",
       "  (dense_2): Linear(in_features=512, out_features=512, bias=True)\n",
       "  (dense_3): Linear(in_features=512, out_features=144, bias=True)\n",
       "  (tanh): Tanh()\n",
       ")"
      ]
     },
     "execution_count": 12,
     "metadata": {},
     "output_type": "execute_result"
    }
   ],
   "source": [
    "# model\n",
    "dense_net = DenseNet(dataset['x'].shape[2], dataset['y'].shape[2], dataset['y'].shape[1])\n",
    "\n",
    "# loss object\n",
    "loss_func = nn.MSELoss()\n",
    "\n",
    "# optim\n",
    "optimizer = optim.SGD(dense_net.parameters(), lr=lr, momentum=0.9)\n",
    "\n",
    "dense_net.eval()"
   ]
  },
  {
   "cell_type": "markdown",
   "metadata": {},
   "source": [
    "### Train the model"
   ]
  },
  {
   "cell_type": "code",
   "execution_count": 13,
   "metadata": {
    "ExecuteTime": {
     "end_time": "2021-05-12T03:00:37.920438Z",
     "start_time": "2021-05-12T03:00:37.866563Z"
    },
    "scrolled": false,
    "tags": []
   },
   "outputs": [
    {
     "name": "stdout",
     "output_type": "stream",
     "text": [
      "> case: pglib_opf_case24_ieee_rts\n",
      "> model: dense_net\n",
      "- num of params: 349328\n",
      "- training\n",
      "\t- validation loss decreased (inf->0.19840): the best model was updated.\n",
      "\t- validation loss decreased (0.19840->0.19303): the best model was updated.\n"
     ]
    }
   ],
   "source": [
    "train(net=dense_net,\n",
    "      train_loader=train_loader,\n",
    "      val_loader=val_loader,\n",
    "      optimizer=optimizer,\n",
    "      loss_func=loss_func,\n",
    "      model_name=model_name,\n",
    "      dataset_name=test_case,\n",
    "      num_epochs=num_epochs)"
   ]
  },
  {
   "cell_type": "markdown",
   "metadata": {},
   "source": [
    "### Test the model"
   ]
  },
  {
   "cell_type": "code",
   "execution_count": 14,
   "metadata": {
    "ExecuteTime": {
     "end_time": "2021-05-12T03:00:37.955938Z",
     "start_time": "2021-05-12T03:00:37.922315Z"
    }
   },
   "outputs": [
    {
     "name": "stdout",
     "output_type": "stream",
     "text": [
      "- testing\n",
      "\taccuracy: 489.5833%\n"
     ]
    }
   ],
   "source": [
    "test(net=dense_net,\n",
    "     test_loader=test_loader,\n",
    "     model_name=model_name,\n",
    "     dataset_name=test_case)"
   ]
  },
  {
   "cell_type": "code",
   "execution_count": null,
   "metadata": {},
   "outputs": [],
   "source": []
  },
  {
   "cell_type": "code",
   "execution_count": null,
   "metadata": {},
   "outputs": [],
   "source": []
  },
  {
   "cell_type": "code",
   "execution_count": null,
   "metadata": {},
   "outputs": [],
   "source": []
  }
 ],
 "metadata": {
  "kernelspec": {
   "display_name": "Python 3",
   "language": "python",
   "name": "python3"
  },
  "language_info": {
   "codemirror_mode": {
    "name": "ipython",
    "version": 3
   },
   "file_extension": ".py",
   "mimetype": "text/x-python",
   "name": "python",
   "nbconvert_exporter": "python",
   "pygments_lexer": "ipython3",
   "version": "3.7.9"
  },
  "latex_envs": {
   "LaTeX_envs_menu_present": true,
   "autoclose": false,
   "autocomplete": true,
   "bibliofile": "biblio.bib",
   "cite_by": "apalike",
   "current_citInitial": 1,
   "eqLabelWithNumbers": true,
   "eqNumInitial": 1,
   "hotkeys": {
    "equation": "Ctrl-E",
    "itemize": "Ctrl-I"
   },
   "labels_anchors": false,
   "latex_user_defs": false,
   "report_style_numbering": false,
   "user_envs_cfg": false
  },
  "toc": {
   "base_numbering": 1,
   "nav_menu": {},
   "number_sections": false,
   "sideBar": true,
   "skip_h1_title": false,
   "title_cell": "Table of Contents",
   "title_sidebar": "Contents",
   "toc_cell": false,
   "toc_position": {},
   "toc_section_display": true,
   "toc_window_display": true
  },
  "varInspector": {
   "cols": {
    "lenName": 16,
    "lenType": 16,
    "lenVar": 40
   },
   "kernels_config": {
    "python": {
     "delete_cmd_postfix": "",
     "delete_cmd_prefix": "del ",
     "library": "var_list.py",
     "varRefreshCmd": "print(var_dic_list())"
    },
    "r": {
     "delete_cmd_postfix": ") ",
     "delete_cmd_prefix": "rm(",
     "library": "var_list.r",
     "varRefreshCmd": "cat(var_dic_list()) "
    }
   },
   "types_to_exclude": [
    "module",
    "function",
    "builtin_function_or_method",
    "instance",
    "_Feature"
   ],
   "window_display": false
  }
 },
 "nbformat": 4,
 "nbformat_minor": 2
}

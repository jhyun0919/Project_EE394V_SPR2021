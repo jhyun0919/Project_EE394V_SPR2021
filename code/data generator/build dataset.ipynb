{
 "cells": [
  {
   "cell_type": "code",
   "execution_count": 1,
   "metadata": {
    "ExecuteTime": {
     "end_time": "2020-05-08T22:36:19.057626Z",
     "start_time": "2020-05-08T22:36:17.286949Z"
    }
   },
   "outputs": [],
   "source": [
    "from data_generator import *"
   ]
  },
  {
   "cell_type": "code",
   "execution_count": 2,
   "metadata": {
    "ExecuteTime": {
     "end_time": "2020-05-08T22:36:19.067267Z",
     "start_time": "2020-05-08T22:36:19.064360Z"
    }
   },
   "outputs": [],
   "source": [
    "test_cases = [\n",
    "    \"case30.m\"\n",
    "]"
   ]
  },
  {
   "cell_type": "markdown",
   "metadata": {},
   "source": [
    "## Example of parsing active constraints: DC-OPF"
   ]
  },
  {
   "cell_type": "code",
   "execution_count": 3,
   "metadata": {
    "ExecuteTime": {
     "end_time": "2020-05-08T22:36:19.072053Z",
     "start_time": "2020-05-08T22:36:19.069579Z"
    }
   },
   "outputs": [],
   "source": [
    "org_dir = os.getcwd()\n",
    "os.chdir('./matpower7.1/')"
   ]
  },
  {
   "cell_type": "code",
   "execution_count": 4,
   "metadata": {
    "ExecuteTime": {
     "end_time": "2020-05-08T22:36:28.401992Z",
     "start_time": "2020-05-08T22:36:19.073681Z"
    }
   },
   "outputs": [],
   "source": [
    "eng = matlab.engine.start_matlab()"
   ]
  },
  {
   "cell_type": "code",
   "execution_count": 5,
   "metadata": {
    "ExecuteTime": {
     "end_time": "2020-05-08T22:36:28.406535Z",
     "start_time": "2020-05-08T22:36:28.404072Z"
    }
   },
   "outputs": [],
   "source": [
    "test_case_idx = 0\n",
    "case_name = test_cases[test_case_idx]"
   ]
  },
  {
   "cell_type": "code",
   "execution_count": 6,
   "metadata": {
    "ExecuteTime": {
     "end_time": "2020-05-08T22:36:35.510423Z",
     "start_time": "2020-05-08T22:36:28.408308Z"
    }
   },
   "outputs": [],
   "source": [
    "data = eng.dc_opf_solver(case_name, 0.03)"
   ]
  },
  {
   "cell_type": "code",
   "execution_count": 7,
   "metadata": {
    "ExecuteTime": {
     "end_time": "2020-05-08T22:36:35.636301Z",
     "start_time": "2020-05-08T22:36:35.513192Z"
    }
   },
   "outputs": [],
   "source": [
    "Pg = np.squeeze(np.array(data['Pg']))\n",
    "B_idx = np.squeeze(np.array(data['B_idx']))\n",
    "GB_map = np.squeeze(np.array(data['GB_map'])).astype(int)\n",
    "F = np.squeeze(np.array(data['F']))\n",
    "Pg_lim = np.array(data['Pg_lim'])\n",
    "F_lim = np.array(data['F_lim'])\n",
    "w = np.squeeze(np.array(data['w']))"
   ]
  },
  {
   "cell_type": "markdown",
   "metadata": {},
   "source": [
    "### Generator active constraints: [Pg_min, Pg_max]]"
   ]
  },
  {
   "cell_type": "code",
   "execution_count": 8,
   "metadata": {
    "ExecuteTime": {
     "end_time": "2020-05-08T22:36:35.649532Z",
     "start_time": "2020-05-08T22:36:35.639643Z"
    }
   },
   "outputs": [
    {
     "output_type": "execute_result",
     "data": {
      "text/plain": [
       "array([44.07757128, 57.51722431, 22.10482288, 30.76156135, 15.26205725,\n",
       "       15.2620573 ])"
      ]
     },
     "metadata": {},
     "execution_count": 8
    }
   ],
   "source": [
    "Pg"
   ]
  },
  {
   "cell_type": "code",
   "execution_count": 9,
   "metadata": {
    "ExecuteTime": {
     "end_time": "2020-05-08T22:36:35.660861Z",
     "start_time": "2020-05-08T22:36:35.651627Z"
    }
   },
   "outputs": [
    {
     "output_type": "execute_result",
     "data": {
      "text/plain": [
       "array([[80.,  0.],\n",
       "       [80.,  0.],\n",
       "       [50.,  0.],\n",
       "       [55.,  0.],\n",
       "       [30.,  0.],\n",
       "       [40.,  0.]])"
      ]
     },
     "metadata": {},
     "execution_count": 9
    }
   ],
   "source": [
    "Pg_lim"
   ]
  },
  {
   "cell_type": "code",
   "execution_count": 10,
   "metadata": {
    "ExecuteTime": {
     "end_time": "2020-05-08T22:36:35.668353Z",
     "start_time": "2020-05-08T22:36:35.662472Z"
    }
   },
   "outputs": [
    {
     "output_type": "execute_result",
     "data": {
      "text/plain": [
       "array([0., 0., 0., 0., 0., 0.])"
      ]
     },
     "metadata": {},
     "execution_count": 10
    }
   ],
   "source": [
    "Pg_active = get_Pg_active_constraints(Pg, Pg_lim)\n",
    "Pg_active"
   ]
  },
  {
   "cell_type": "markdown",
   "metadata": {},
   "source": [
    "### Bus active constraints, due to precense of co-related generation: [Pb_min, Pb_max]"
   ]
  },
  {
   "cell_type": "code",
   "execution_count": 11,
   "metadata": {
    "ExecuteTime": {
     "end_time": "2020-05-08T22:36:35.679998Z",
     "start_time": "2020-05-08T22:36:35.670228Z"
    },
    "scrolled": false
   },
   "outputs": [
    {
     "output_type": "execute_result",
     "data": {
      "text/plain": [
       "{1: 44.077571281953965,\n",
       " 2: 57.517224308359246,\n",
       " 22: 22.10482288398564,\n",
       " 27: 30.761561353321333,\n",
       " 23: 15.262057250924663,\n",
       " 13: 15.26205729615106}"
      ]
     },
     "metadata": {},
     "execution_count": 11
    }
   ],
   "source": [
    "Pb = get_Pb(Pg, GB_map)\n",
    "Pb"
   ]
  },
  {
   "cell_type": "code",
   "execution_count": 12,
   "metadata": {
    "ExecuteTime": {
     "end_time": "2020-05-08T22:36:35.717864Z",
     "start_time": "2020-05-08T22:36:35.681472Z"
    }
   },
   "outputs": [
    {
     "output_type": "execute_result",
     "data": {
      "text/plain": [
       "{1: array([80.,  0.]),\n",
       " 2: array([80.,  0.]),\n",
       " 22: array([50.,  0.]),\n",
       " 27: array([55.,  0.]),\n",
       " 23: array([30.,  0.]),\n",
       " 13: array([40.,  0.])}"
      ]
     },
     "metadata": {},
     "execution_count": 12
    }
   ],
   "source": [
    "Pb_lim = get_Pb_lim(Pg_lim, GB_map)\n",
    "Pb_lim"
   ]
  },
  {
   "cell_type": "code",
   "execution_count": 13,
   "metadata": {
    "ExecuteTime": {
     "end_time": "2020-05-08T22:36:35.739636Z",
     "start_time": "2020-05-08T22:36:35.719256Z"
    }
   },
   "outputs": [
    {
     "output_type": "execute_result",
     "data": {
      "text/plain": [
       "array([0., 0., 0., 0., 0., 0.])"
      ]
     },
     "metadata": {},
     "execution_count": 13
    }
   ],
   "source": [
    "Pb_active = get_Pb_active_constraints(Pg, Pg_lim, GB_map)\n",
    "Pb_active"
   ]
  },
  {
   "cell_type": "markdown",
   "metadata": {
    "ExecuteTime": {
     "end_time": "2020-04-29T18:46:15.946206Z",
     "start_time": "2020-04-29T18:46:15.942629Z"
    }
   },
   "source": [
    "### Flow Constraints: [-F_max, F_max] "
   ]
  },
  {
   "cell_type": "code",
   "execution_count": 14,
   "metadata": {
    "ExecuteTime": {
     "end_time": "2020-05-08T22:36:35.744720Z",
     "start_time": "2020-05-08T22:36:35.741380Z"
    }
   },
   "outputs": [
    {
     "output_type": "execute_result",
     "data": {
      "text/plain": [
       "array([ 22.63295629,  21.44461499,  20.42222701,  18.88197802,\n",
       "        15.35802146,  23.86379127,  20.59259589,  15.35802146,\n",
       "         7.73855548,  24.37498635,   8.79138051,   5.023646  ,\n",
       "         0.        ,   8.79138051,  11.30818466, -15.2620573 ,\n",
       "         4.60580495,   6.74095875,   5.04321253,  -1.60592325,\n",
       "         1.5216911 ,   6.45043684,   3.39344781,  -5.70497736,\n",
       "         7.81144266,   7.51182788,  -2.8375209 ,  -3.98884108,\n",
       "       -19.98498491,  -9.33957459,  -1.8690031 ,   2.79133758,\n",
       "        -7.35217412,   3.39135723, -10.74353135,  -6.78883282,\n",
       "         6.12788903,   7.10130815,   3.74904778,  -5.31665163,\n",
       "        -1.47218119])"
      ]
     },
     "metadata": {},
     "execution_count": 14
    }
   ],
   "source": [
    "F"
   ]
  },
  {
   "cell_type": "code",
   "execution_count": 15,
   "metadata": {
    "ExecuteTime": {
     "end_time": "2020-05-08T22:36:35.749486Z",
     "start_time": "2020-05-08T22:36:35.746430Z"
    }
   },
   "outputs": [
    {
     "output_type": "execute_result",
     "data": {
      "text/plain": [
       "array([[130.],\n",
       "       [130.],\n",
       "       [ 65.],\n",
       "       [130.],\n",
       "       [130.],\n",
       "       [ 65.],\n",
       "       [ 90.],\n",
       "       [ 70.],\n",
       "       [130.],\n",
       "       [ 32.],\n",
       "       [ 65.],\n",
       "       [ 32.],\n",
       "       [ 65.],\n",
       "       [ 65.],\n",
       "       [ 65.],\n",
       "       [ 65.],\n",
       "       [ 32.],\n",
       "       [ 32.],\n",
       "       [ 32.],\n",
       "       [ 16.],\n",
       "       [ 16.],\n",
       "       [ 16.],\n",
       "       [ 16.],\n",
       "       [ 32.],\n",
       "       [ 32.],\n",
       "       [ 32.],\n",
       "       [ 32.],\n",
       "       [ 32.],\n",
       "       [ 32.],\n",
       "       [ 16.],\n",
       "       [ 16.],\n",
       "       [ 16.],\n",
       "       [ 16.],\n",
       "       [ 16.],\n",
       "       [ 16.],\n",
       "       [ 65.],\n",
       "       [ 16.],\n",
       "       [ 16.],\n",
       "       [ 16.],\n",
       "       [ 32.],\n",
       "       [ 32.]])"
      ]
     },
     "metadata": {},
     "execution_count": 15
    }
   ],
   "source": [
    "F_lim"
   ]
  },
  {
   "cell_type": "code",
   "execution_count": 16,
   "metadata": {
    "ExecuteTime": {
     "end_time": "2020-05-08T22:36:35.756890Z",
     "start_time": "2020-05-08T22:36:35.750891Z"
    }
   },
   "outputs": [
    {
     "output_type": "execute_result",
     "data": {
      "text/plain": [
       "array([0, 0, 0, 0, 0, 0, 0, 0, 0, 0, 0, 0, 0, 0, 0, 0, 0, 0, 0, 0, 0, 0,\n",
       "       0, 0, 0, 0, 0, 0, 0, 0, 0, 0, 0, 0, 0, 0, 0, 0, 0, 0, 0])"
      ]
     },
     "metadata": {},
     "execution_count": 16
    }
   ],
   "source": [
    "F_active = get_F_active_constraints(F, F_lim)\n",
    "F_active"
   ]
  },
  {
   "cell_type": "markdown",
   "metadata": {
    "ExecuteTime": {
     "end_time": "2020-04-29T07:12:37.020650Z",
     "start_time": "2020-04-29T07:12:37.017904Z"
    }
   },
   "source": [
    "### Merge all active constriants"
   ]
  },
  {
   "cell_type": "code",
   "execution_count": 17,
   "metadata": {
    "ExecuteTime": {
     "end_time": "2020-05-08T22:36:35.761603Z",
     "start_time": "2020-05-08T22:36:35.758198Z"
    }
   },
   "outputs": [
    {
     "output_type": "execute_result",
     "data": {
      "text/plain": [
       "array([0., 0., 0., 0., 0., 0., 0., 0., 0., 0., 0., 0., 0., 0., 0., 0., 0.,\n",
       "       0., 0., 0., 0., 0., 0., 0., 0., 0., 0., 0., 0., 0., 0., 0., 0., 0.,\n",
       "       0., 0., 0., 0., 0., 0., 0., 0., 0., 0., 0., 0., 0., 0., 0., 0., 0.,\n",
       "       0., 0.])"
      ]
     },
     "metadata": {},
     "execution_count": 17
    }
   ],
   "source": [
    "active_aconstraints = merge_active_constraints(Pg_active, Pb_active, F_active)\n",
    "active_aconstraints"
   ]
  },
  {
   "cell_type": "code",
   "execution_count": null,
   "metadata": {},
   "outputs": [],
   "source": []
  },
  {
   "cell_type": "code",
   "execution_count": 19,
   "metadata": {
    "ExecuteTime": {
     "end_time": "2020-05-08T22:36:40.178577Z",
     "start_time": "2020-05-08T22:36:40.174974Z"
    }
   },
   "outputs": [],
   "source": [
    "eng.quit()"
   ]
  },
  {
   "cell_type": "code",
   "execution_count": 20,
   "metadata": {
    "ExecuteTime": {
     "end_time": "2020-05-08T22:36:40.183172Z",
     "start_time": "2020-05-08T22:36:40.180841Z"
    }
   },
   "outputs": [],
   "source": [
    "os.chdir(org_dir)"
   ]
  },
  {
   "cell_type": "code",
   "execution_count": null,
   "metadata": {},
   "outputs": [],
   "source": []
  },
  {
   "cell_type": "markdown",
   "metadata": {},
   "source": [
    "## Build Datasets for NNs"
   ]
  },
  {
   "cell_type": "markdown",
   "metadata": {},
   "source": [
    "### example of creating a dataset\n",
    "- **x**: uncertainty realization as a feature input\n",
    "- **y**: active constraints index as a label output"
   ]
  },
  {
   "cell_type": "code",
   "execution_count": 21,
   "metadata": {
    "ExecuteTime": {
     "end_time": "2020-05-08T22:36:47.654531Z",
     "start_time": "2020-05-08T22:36:40.188876Z"
    },
    "scrolled": true
   },
   "outputs": [
    {
     "output_type": "stream",
     "name": "stdout",
     "text": [
      "> creating dataset with case30.m\n",
      "100%|██████████| 1/1 [00:00<00:00,  2.96it/s]\n"
     ]
    },
    {
     "output_type": "execute_result",
     "data": {
      "text/plain": [
       "{'x': array([ 0.        , -0.74674264, -0.07695867, -0.1845657 ,  0.        ,\n",
       "         0.        ,  0.22243033, -0.67943549,  0.        , -0.29780386,\n",
       "         0.        , -0.08112621,  0.        ,  0.0581917 , -0.21276046,\n",
       "        -0.00315539, -0.04451734,  0.0602599 ,  0.31158072,  0.07321204,\n",
       "        -0.45341773,  0.        , -0.11655524, -0.29062369,  0.        ,\n",
       "         0.16092618,  0.        ,  0.        , -0.01624208,  0.35531925]),\n",
       " 'y': array([[0., 0., 0., 0., 0., 0., 0., 0., 0., 0., 0., 0., 0., 0., 0., 0.,\n",
       "         0., 0., 0., 0., 0., 0., 0., 0., 0., 0., 0., 0., 0., 0., 0., 0.,\n",
       "         0., 0., 0., 0., 0., 0., 0., 0., 0., 0., 0., 0., 0., 0., 0., 0.,\n",
       "         0., 0., 0., 0., 0.]])}"
      ]
     },
     "metadata": {},
     "execution_count": 21
    }
   ],
   "source": [
    "dataset = create_dataset(case_name, dataset_size=1)\n",
    "dataset"
   ]
  },
  {
   "cell_type": "markdown",
   "metadata": {},
   "source": [
    "### Build datasets"
   ]
  },
  {
   "cell_type": "code",
   "execution_count": 24,
   "metadata": {
    "ExecuteTime": {
     "end_time": "2020-05-08T22:36:47.661083Z",
     "start_time": "2020-05-08T22:36:47.659184Z"
    }
   },
   "outputs": [],
   "source": [
    "# dataset_size = 2\n",
    "dataset_size = 10"
   ]
  },
  {
   "cell_type": "code",
   "execution_count": 25,
   "metadata": {
    "ExecuteTime": {
     "start_time": "2020-05-08T22:36:17.522Z"
    },
    "scrolled": false
   },
   "outputs": [
    {
     "output_type": "stream",
     "name": "stdout",
     "text": [
      "> creating dataset with case30.m\n",
      "100%|██████████| 10/10 [00:04<00:00,  2.07it/s]<built-in function chdir>\n",
      "\n"
     ]
    }
   ],
   "source": [
    "build_datasets(test_cases, dataset_size)"
   ]
  },
  {
   "cell_type": "markdown",
   "metadata": {
    "ExecuteTime": {
     "end_time": "2020-04-28T13:58:42.208407Z",
     "start_time": "2020-04-28T13:58:42.204498Z"
    }
   },
   "source": [
    "### Check datasets"
   ]
  },
  {
   "cell_type": "code",
   "execution_count": 26,
   "metadata": {
    "ExecuteTime": {
     "start_time": "2020-05-08T22:36:17.540Z"
    }
   },
   "outputs": [],
   "source": [
    "infile = open('./../../data/' + str(dataset_size) +'/case30.pickle','rb')\n",
    "dataset = pickle.load(infile)\n",
    "infile.close()"
   ]
  },
  {
   "cell_type": "code",
   "execution_count": 27,
   "metadata": {
    "ExecuteTime": {
     "start_time": "2020-05-08T22:36:17.542Z"
    }
   },
   "outputs": [
    {
     "output_type": "execute_result",
     "data": {
      "text/plain": [
       "{'x': array([[ 0.        , -0.74674264, -0.07695867, -0.1845657 ,  0.        ,\n",
       "          0.        ,  0.22243033, -0.67943549,  0.        , -0.29780386,\n",
       "          0.        , -0.08112621,  0.        ,  0.0581917 , -0.21276046,\n",
       "         -0.00315539, -0.04451734,  0.0602599 ,  0.31158072,  0.07321204,\n",
       "         -0.45341773,  0.        , -0.11655524, -0.29062369,  0.        ,\n",
       "          0.16092618,  0.        ,  0.        , -0.01624208,  0.35531925],\n",
       "        [ 0.        ,  0.02119491,  0.03978195,  0.25093913,  0.        ,\n",
       "          0.        , -1.02024777, -0.66807165,  0.        ,  0.40897956,\n",
       "          0.        ,  0.2513538 ,  0.        ,  0.16528154, -0.18815291,\n",
       "         -0.14723824, -0.3840415 ,  0.04686662, -0.05055192, -0.01293953,\n",
       "          0.74513783,  0.        ,  0.01898986,  0.41438946,  0.        ,\n",
       "          0.07314556,  0.        ,  0.        ,  0.01552825, -0.37073837],\n",
       "        [ 0.        ,  0.06827344,  0.05200229,  0.58949201,  0.        ,\n",
       "          0.        , -0.05642619, -1.73972063,  0.        , -0.31227412,\n",
       "          0.        , -0.29837878,  0.        , -0.10128238,  0.07466612,\n",
       "         -0.06303429,  0.13229064,  0.07097886,  0.48788802, -0.01281215,\n",
       "         -1.12263652,  0.        ,  0.13004106, -0.27983253,  0.        ,\n",
       "          0.01302523,  0.        ,  0.        , -0.01423427, -0.38409486],\n",
       "        [ 0.        ,  0.5372175 ,  0.09928598, -0.2412651 ,  0.        ,\n",
       "          0.        ,  0.75132244, -0.25008474,  0.        , -0.35701604,\n",
       "          0.        , -0.27672507,  0.        ,  0.09448329,  0.06936808,\n",
       "          0.00351539, -0.36009304,  0.10823926,  0.09980113, -0.01973836,\n",
       "          0.01201714,  0.        , -0.16802039, -0.0745549 ,  0.        ,\n",
       "         -0.10281666,  0.        ,  0.        , -0.14418977,  0.30662496],\n",
       "        [ 0.        , -0.01303813, -0.00250352, -0.1819813 ,  0.        ,\n",
       "          0.        , -0.48873863,  1.21624719,  0.        , -0.10249105,\n",
       "          0.        , -0.28490322,  0.        ,  0.46983594,  0.40725241,\n",
       "          0.03229119, -0.33942196, -0.08308493, -0.05031222,  0.05223346,\n",
       "         -0.69930232,  0.        , -0.13911334,  0.08704633,  0.        ,\n",
       "          0.04742634,  0.        ,  0.        , -0.03428302,  0.27412287],\n",
       "        [ 0.        ,  0.29622424, -0.06110708, -0.07635422,  0.        ,\n",
       "          0.        , -0.76446486,  1.13459284,  0.        , -0.01180861,\n",
       "          0.        , -0.07311573,  0.        ,  0.00428649,  0.01261743,\n",
       "          0.08673659,  0.41228371,  0.04482379, -0.0597683 ,  0.04126256,\n",
       "          0.09619431,  0.        ,  0.0911253 ,  0.08014316,  0.        ,\n",
       "          0.05410087,  0.        ,  0.        , -0.01168831, -0.04644537],\n",
       "        [ 0.        ,  1.09504944, -0.06305251, -0.11030983,  0.        ,\n",
       "          0.        , -0.13149183, -0.24666321,  0.        , -0.04333031,\n",
       "          0.        ,  0.53876165,  0.        , -0.04271052, -0.37051529,\n",
       "         -0.04668592, -0.04210408,  0.02650255, -0.07443164,  0.02926585,\n",
       "          0.20574446,  0.        , -0.09100425, -0.19342869,  0.        ,\n",
       "         -0.03366043,  0.        ,  0.        , -0.03290505,  0.39509859],\n",
       "        [ 0.        ,  0.60785703,  0.02522311, -0.00661331,  0.        ,\n",
       "          0.        , -0.057825  ,  1.44355172,  0.        ,  0.00719901,\n",
       "          0.        , -0.01035341,  0.        ,  0.07930809, -0.09171095,\n",
       "         -0.02482773,  0.54639654, -0.21680198,  0.63539202,  0.0222792 ,\n",
       "          0.52503193,  0.        , -0.05664332, -0.07257475,  0.        ,\n",
       "         -0.17537107,  0.        ,  0.        ,  0.00476568,  0.20744917],\n",
       "        [ 0.        ,  0.70479441,  0.07243755, -0.14840696,  0.        ,\n",
       "          0.        , -0.90410335,  0.83234334,  0.        , -0.00955589,\n",
       "          0.        ,  0.19978012,  0.        ,  0.23254673,  0.22872821,\n",
       "          0.02517514, -0.1863975 , -0.06254915,  0.33974903, -0.10638081,\n",
       "         -0.01284252,  0.        ,  0.09796781,  0.22490795,  0.        ,\n",
       "         -0.00743791,  0.        ,  0.        , -0.15785531, -0.73753114],\n",
       "        [ 0.        , -0.61746112,  0.02962732,  0.15435094,  0.        ,\n",
       "          0.        ,  0.30737429,  0.09057002,  0.        ,  0.09329133,\n",
       "          0.        , -0.04433112,  0.        ,  0.18744585, -0.52241924,\n",
       "         -0.05298157, -0.3430605 , -0.03672814,  0.18487359,  0.05449799,\n",
       "         -0.53284541,  0.        ,  0.01315439, -0.07617634,  0.        ,\n",
       "          0.04199275,  0.        ,  0.        , -0.15351081,  0.36422502]]),\n",
       " 'y': array([[0., 0., 0., 0., 0., 0., 0., 0., 0., 0., 0., 0., 0., 0., 0., 0.,\n",
       "         0., 0., 0., 0., 0., 0., 0., 0., 0., 0., 0., 0., 0., 0., 0., 0.,\n",
       "         0., 0., 0., 0., 0., 0., 0., 0., 0., 0., 0., 0., 0., 0., 0., 0.,\n",
       "         0., 0., 0., 0., 0.],\n",
       "        [0., 0., 0., 0., 0., 0., 0., 0., 0., 0., 0., 0., 0., 0., 0., 0.,\n",
       "         0., 0., 0., 0., 0., 0., 0., 0., 0., 0., 0., 0., 0., 0., 0., 0.,\n",
       "         0., 0., 0., 0., 0., 0., 0., 0., 0., 0., 0., 0., 0., 0., 0., 0.,\n",
       "         0., 0., 0., 0., 0.],\n",
       "        [0., 0., 0., 0., 0., 0., 0., 0., 0., 0., 0., 0., 0., 0., 0., 0.,\n",
       "         0., 0., 0., 0., 0., 0., 0., 0., 0., 0., 0., 0., 0., 0., 0., 0.,\n",
       "         0., 0., 0., 0., 0., 0., 0., 0., 0., 0., 0., 0., 0., 0., 0., 0.,\n",
       "         0., 0., 0., 0., 0.],\n",
       "        [0., 0., 0., 0., 0., 0., 0., 0., 0., 0., 0., 0., 0., 0., 0., 0.,\n",
       "         0., 0., 0., 0., 0., 0., 0., 0., 0., 0., 0., 0., 0., 0., 0., 0.,\n",
       "         0., 0., 0., 0., 0., 0., 0., 0., 0., 0., 0., 0., 0., 0., 0., 0.,\n",
       "         0., 0., 0., 0., 0.],\n",
       "        [0., 0., 0., 0., 0., 0., 0., 0., 0., 0., 0., 0., 0., 0., 0., 0.,\n",
       "         0., 0., 0., 0., 0., 0., 0., 0., 0., 0., 0., 0., 0., 0., 0., 0.,\n",
       "         0., 0., 0., 0., 0., 0., 0., 0., 0., 0., 0., 0., 0., 0., 0., 0.,\n",
       "         0., 0., 0., 0., 0.],\n",
       "        [0., 0., 0., 0., 0., 0., 0., 0., 0., 0., 0., 0., 0., 0., 0., 0.,\n",
       "         0., 0., 0., 0., 0., 0., 0., 0., 0., 0., 0., 0., 0., 0., 0., 0.,\n",
       "         0., 0., 0., 0., 0., 0., 0., 0., 0., 0., 0., 0., 0., 0., 0., 0.,\n",
       "         0., 0., 0., 0., 0.],\n",
       "        [0., 0., 0., 0., 0., 0., 0., 0., 0., 0., 0., 0., 0., 0., 0., 0.,\n",
       "         0., 0., 0., 0., 0., 0., 0., 0., 0., 0., 0., 0., 0., 0., 0., 0.,\n",
       "         0., 0., 0., 0., 0., 0., 0., 0., 0., 0., 0., 0., 0., 0., 0., 0.,\n",
       "         0., 0., 0., 0., 0.],\n",
       "        [0., 0., 0., 0., 0., 0., 0., 0., 0., 0., 0., 0., 0., 0., 0., 0.,\n",
       "         0., 0., 0., 0., 0., 0., 0., 0., 0., 0., 0., 0., 0., 0., 0., 0.,\n",
       "         0., 0., 0., 0., 0., 0., 0., 0., 0., 0., 0., 0., 0., 0., 0., 0.,\n",
       "         0., 0., 0., 0., 0.],\n",
       "        [0., 0., 0., 0., 0., 0., 0., 0., 0., 0., 0., 0., 0., 0., 0., 0.,\n",
       "         0., 0., 0., 0., 0., 0., 0., 0., 0., 0., 0., 0., 0., 0., 0., 0.,\n",
       "         0., 0., 0., 0., 0., 0., 0., 0., 0., 0., 0., 0., 0., 0., 0., 0.,\n",
       "         0., 0., 0., 0., 0.],\n",
       "        [0., 0., 0., 0., 0., 0., 0., 0., 0., 0., 0., 0., 0., 0., 0., 0.,\n",
       "         0., 0., 0., 0., 0., 0., 0., 0., 0., 0., 0., 0., 0., 0., 0., 0.,\n",
       "         0., 0., 0., 0., 0., 0., 0., 0., 0., 0., 0., 0., 0., 0., 0., 0.,\n",
       "         0., 0., 0., 0., 0.]])}"
      ]
     },
     "metadata": {},
     "execution_count": 27
    }
   ],
   "source": [
    "dataset"
   ]
  },
  {
   "cell_type": "code",
   "execution_count": null,
   "metadata": {},
   "outputs": [],
   "source": []
  },
  {
   "cell_type": "code",
   "execution_count": null,
   "metadata": {},
   "outputs": [],
   "source": []
  },
  {
   "cell_type": "code",
   "execution_count": null,
   "metadata": {},
   "outputs": [],
   "source": []
  }
 ],
 "metadata": {
  "kernelspec": {
   "name": "python379jvsc74a57bd010e83347183dc7520e29c813151cec00720abef40e11bbe5e5ee55f38dd01545",
   "display_name": "Python 3.7.9 64-bit ('DAPS': conda)"
  },
  "language_info": {
   "codemirror_mode": {
    "name": "ipython",
    "version": 3
   },
   "file_extension": ".py",
   "mimetype": "text/x-python",
   "name": "python",
   "nbconvert_exporter": "python",
   "pygments_lexer": "ipython3",
   "version": "3.7.9"
  },
  "toc": {
   "base_numbering": 1,
   "nav_menu": {},
   "number_sections": true,
   "sideBar": true,
   "skip_h1_title": false,
   "title_cell": "Table of Contents",
   "title_sidebar": "Contents",
   "toc_cell": false,
   "toc_position": {},
   "toc_section_display": true,
   "toc_window_display": false
  },
  "varInspector": {
   "cols": {
    "lenName": 16,
    "lenType": 16,
    "lenVar": 40
   },
   "kernels_config": {
    "python": {
     "delete_cmd_postfix": "",
     "delete_cmd_prefix": "del ",
     "library": "var_list.py",
     "varRefreshCmd": "print(var_dic_list())"
    },
    "r": {
     "delete_cmd_postfix": ") ",
     "delete_cmd_prefix": "rm(",
     "library": "var_list.r",
     "varRefreshCmd": "cat(var_dic_list()) "
    }
   },
   "types_to_exclude": [
    "module",
    "function",
    "builtin_function_or_method",
    "instance",
    "_Feature"
   ],
   "window_display": false
  }
 },
 "nbformat": 4,
 "nbformat_minor": 4
}
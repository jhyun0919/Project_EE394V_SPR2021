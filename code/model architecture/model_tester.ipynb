{
 "metadata": {
  "language_info": {
   "codemirror_mode": {
    "name": "ipython",
    "version": 3
   },
   "file_extension": ".py",
   "mimetype": "text/x-python",
   "name": "python",
   "nbconvert_exporter": "python",
   "pygments_lexer": "ipython3",
   "version": "3.7.9"
  },
  "orig_nbformat": 2,
  "kernelspec": {
   "name": "python379jvsc74a57bd010e83347183dc7520e29c813151cec00720abef40e11bbe5e5ee55f38dd01545",
   "display_name": "Python 3.7.9 64-bit ('DAPS': conda)"
  }
 },
 "nbformat": 4,
 "nbformat_minor": 2,
 "cells": [
  {
   "cell_type": "code",
   "execution_count": 1,
   "metadata": {},
   "outputs": [
    {
     "output_type": "stream",
     "name": "stderr",
     "text": [
      "Using backend: pytorch\n"
     ]
    }
   ],
   "source": [
    "from model import *\n",
    "from dgl import DGLGraph\n",
    "from dgl.data import citation_graph as citegrh\n",
    "import networkx as nx\n",
    "\n",
    "import time\n",
    "import numpy as np"
   ]
  },
  {
   "cell_type": "code",
   "execution_count": 2,
   "metadata": {},
   "outputs": [
    {
     "output_type": "stream",
     "name": "stdout",
     "text": [
      "  NumNodes: 2708\n",
      "  NumEdges: 10556\n",
      "  NumFeats: 1433\n",
      "  NumClasses: 7\n",
      "  NumTrainingSamples: 140\n",
      "  NumValidationSamples: 500\n",
      "  NumTestSamples: 1000\n",
      "Done loading data from cached files.\n",
      "/Users/jeehyunpark/opt/anaconda3/envs/DAPS/lib/python3.7/site-packages/dgl/data/utils.py:285: UserWarning: Property dataset.feat will be deprecated, please use g.ndata['feat'] instead.\n",
      "  warnings.warn('Property {} will be deprecated, please use {} instead.'.format(old, new))\n",
      "/Users/jeehyunpark/opt/anaconda3/envs/DAPS/lib/python3.7/site-packages/dgl/data/utils.py:285: UserWarning: Property dataset.label will be deprecated, please use g.ndata['label'] instead.\n",
      "  warnings.warn('Property {} will be deprecated, please use {} instead.'.format(old, new))\n",
      "/Users/jeehyunpark/opt/anaconda3/envs/DAPS/lib/python3.7/site-packages/dgl/data/utils.py:285: UserWarning: Property dataset.train_mask will be deprecated, please use g.ndata['train_mask'] instead.\n",
      "  warnings.warn('Property {} will be deprecated, please use {} instead.'.format(old, new))\n",
      "/Users/jeehyunpark/opt/anaconda3/envs/DAPS/lib/python3.7/site-packages/dgl/data/utils.py:285: UserWarning: Property dataset.graph will be deprecated, please use dataset[0] instead.\n",
      "  warnings.warn('Property {} will be deprecated, please use {} instead.'.format(old, new))\n",
      "/Users/jeehyunpark/opt/anaconda3/envs/DAPS/lib/python3.7/site-packages/dgl/base.py:45: DGLWarning: Recommend creating graphs by `dgl.graph(data)` instead of `dgl.DGLGraph(data)`.\n",
      "  return warnings.warn(message, category=category, stacklevel=1)\n"
     ]
    }
   ],
   "source": [
    "def load_cora_data():\n",
    "    data = citegrh.load_cora()\n",
    "    features = torch.FloatTensor(data.features)\n",
    "    labels = torch.LongTensor(data.labels)\n",
    "    mask = torch.BoolTensor(data.train_mask)\n",
    "    g = DGLGraph(data.graph)\n",
    "    return g, features, labels, mask, data\n",
    "\n",
    "g, features, labels, mask, data = load_cora_data()"
   ]
  },
  {
   "cell_type": "code",
   "execution_count": 3,
   "metadata": {},
   "outputs": [
    {
     "output_type": "execute_result",
     "data": {
      "text/plain": [
       "(tensor([[0., 0., 0.,  ..., 0., 0., 0.],\n",
       "         [0., 0., 0.,  ..., 0., 0., 0.],\n",
       "         [0., 0., 0.,  ..., 0., 0., 0.],\n",
       "         ...,\n",
       "         [0., 0., 0.,  ..., 0., 0., 0.],\n",
       "         [0., 0., 0.,  ..., 0., 0., 0.],\n",
       "         [0., 0., 0.,  ..., 0., 0., 0.]]),\n",
       " torch.Size([2708, 1433]))"
      ]
     },
     "metadata": {},
     "execution_count": 3
    }
   ],
   "source": [
    "features, features.shape"
   ]
  },
  {
   "cell_type": "code",
   "execution_count": 4,
   "metadata": {},
   "outputs": [
    {
     "output_type": "execute_result",
     "data": {
      "text/plain": [
       "(tensor([3, 4, 4,  ..., 3, 3, 3]), torch.Size([2708]))"
      ]
     },
     "metadata": {},
     "execution_count": 4
    }
   ],
   "source": [
    "labels, labels.shape"
   ]
  },
  {
   "cell_type": "code",
   "execution_count": 5,
   "metadata": {},
   "outputs": [
    {
     "output_type": "execute_result",
     "data": {
      "text/plain": [
       "(tensor([ True,  True,  True,  ..., False, False, False]), torch.Size([2708]))"
      ]
     },
     "metadata": {},
     "execution_count": 5
    }
   ],
   "source": [
    "mask, mask.shape"
   ]
  },
  {
   "cell_type": "code",
   "execution_count": null,
   "metadata": {},
   "outputs": [],
   "source": []
  },
  {
   "cell_type": "code",
   "execution_count": null,
   "metadata": {},
   "outputs": [],
   "source": []
  },
  {
   "cell_type": "code",
   "execution_count": null,
   "metadata": {},
   "outputs": [],
   "source": []
  },
  {
   "cell_type": "code",
   "execution_count": 6,
   "metadata": {},
   "outputs": [
    {
     "output_type": "stream",
     "name": "stderr",
     "text": [
      "/Users/jeehyunpark/opt/anaconda3/envs/DAPS/lib/python3.7/site-packages/numpy/core/fromnumeric.py:3373: RuntimeWarning: Mean of empty slice.\n",
      "  out=out, **kwargs)\n",
      "/Users/jeehyunpark/opt/anaconda3/envs/DAPS/lib/python3.7/site-packages/numpy/core/_methods.py:170: RuntimeWarning: invalid value encountered in double_scalars\n",
      "  ret = ret.dtype.type(ret / rcount)\n",
      "Epoch 00000 | Loss 1.9458 | Time(s) nan\n",
      "Epoch 00001 | Loss 1.9442 | Time(s) nan\n",
      "Epoch 00002 | Loss 1.9426 | Time(s) nan\n",
      "Epoch 00003 | Loss 1.9410 | Time(s) 0.0915\n",
      "Epoch 00004 | Loss 1.9394 | Time(s) 0.0912\n",
      "Epoch 00005 | Loss 1.9378 | Time(s) 0.0905\n",
      "Epoch 00006 | Loss 1.9362 | Time(s) 0.0905\n",
      "Epoch 00007 | Loss 1.9345 | Time(s) 0.0904\n",
      "Epoch 00008 | Loss 1.9329 | Time(s) 0.0903\n",
      "Epoch 00009 | Loss 1.9313 | Time(s) 0.0905\n",
      "Epoch 00010 | Loss 1.9296 | Time(s) 0.0905\n",
      "Epoch 00011 | Loss 1.9280 | Time(s) 0.0905\n",
      "Epoch 00012 | Loss 1.9263 | Time(s) 0.0904\n",
      "Epoch 00013 | Loss 1.9247 | Time(s) 0.0904\n",
      "Epoch 00014 | Loss 1.9230 | Time(s) 0.0904\n",
      "Epoch 00015 | Loss 1.9213 | Time(s) 0.0904\n",
      "Epoch 00016 | Loss 1.9196 | Time(s) 0.0903\n",
      "Epoch 00017 | Loss 1.9179 | Time(s) 0.0903\n",
      "Epoch 00018 | Loss 1.9162 | Time(s) 0.0902\n",
      "Epoch 00019 | Loss 1.9145 | Time(s) 0.0902\n",
      "Epoch 00020 | Loss 1.9128 | Time(s) 0.0901\n",
      "Epoch 00021 | Loss 1.9110 | Time(s) 0.0900\n",
      "Epoch 00022 | Loss 1.9093 | Time(s) 0.0900\n",
      "Epoch 00023 | Loss 1.9075 | Time(s) 0.0899\n",
      "Epoch 00024 | Loss 1.9057 | Time(s) 0.0900\n",
      "Epoch 00025 | Loss 1.9039 | Time(s) 0.0901\n",
      "Epoch 00026 | Loss 1.9021 | Time(s) 0.0901\n",
      "Epoch 00027 | Loss 1.9003 | Time(s) 0.0901\n",
      "Epoch 00028 | Loss 1.8984 | Time(s) 0.0901\n",
      "Epoch 00029 | Loss 1.8966 | Time(s) 0.0902\n"
     ]
    }
   ],
   "source": [
    "# create the model, 2 heads, each head has hidden size 8\n",
    "net = GAT(g,\n",
    "          in_dim=features.size()[1],\n",
    "          hidden_dim=8,\n",
    "          out_dim=7,\n",
    "          num_heads=2)\n",
    "\n",
    "# create optimizer\n",
    "optimizer = torch.optim.Adam(net.parameters(), lr=1e-3)\n",
    "\n",
    "# main loop\n",
    "dur = []\n",
    "for epoch in range(30):\n",
    "    if epoch >= 3:\n",
    "        t0 = time.time()\n",
    "\n",
    "    logits = net(features)\n",
    "    logp = F.log_softmax(logits, 1)\n",
    "    loss = F.nll_loss(logp[mask], labels[mask])\n",
    "\n",
    "    optimizer.zero_grad()\n",
    "    loss.backward()\n",
    "    optimizer.step()\n",
    "\n",
    "    if epoch >= 3:\n",
    "        dur.append(time.time() - t0)\n",
    "\n",
    "    print(\"Epoch {:05d} | Loss {:.4f} | Time(s) {:.4f}\".format(\n",
    "        epoch, loss.item(), np.mean(dur)))\n"
   ]
  },
  {
   "cell_type": "code",
   "execution_count": 10,
   "metadata": {},
   "outputs": [
    {
     "output_type": "error",
     "ename": "TypeError",
     "evalue": "plot() missing 1 required positional argument: 'attention'",
     "traceback": [
      "\u001b[0;31m---------------------------------------------------------------------------\u001b[0m",
      "\u001b[0;31mTypeError\u001b[0m                                 Traceback (most recent call last)",
      "\u001b[0;32m<ipython-input-10-80f1749c45ef>\u001b[0m in \u001b[0;36m<module>\u001b[0;34m\u001b[0m\n\u001b[1;32m     51\u001b[0m \u001b[0;34m\u001b[0m\u001b[0m\n\u001b[1;32m     52\u001b[0m \u001b[0mfig\u001b[0m\u001b[0;34m,\u001b[0m \u001b[0max\u001b[0m \u001b[0;34m=\u001b[0m \u001b[0mplt\u001b[0m\u001b[0;34m.\u001b[0m\u001b[0msubplots\u001b[0m\u001b[0;34m(\u001b[0m\u001b[0;34m)\u001b[0m\u001b[0;34m\u001b[0m\u001b[0;34m\u001b[0m\u001b[0m\n\u001b[0;32m---> 53\u001b[0;31m \u001b[0mplot\u001b[0m\u001b[0;34m(\u001b[0m\u001b[0mg\u001b[0m\u001b[0;34m,\u001b[0m \u001b[0max\u001b[0m\u001b[0;34m=\u001b[0m\u001b[0max\u001b[0m\u001b[0;34m)\u001b[0m\u001b[0;34m\u001b[0m\u001b[0;34m\u001b[0m\u001b[0m\n\u001b[0m\u001b[1;32m     54\u001b[0m \u001b[0max\u001b[0m\u001b[0;34m.\u001b[0m\u001b[0mset_axis_off\u001b[0m\u001b[0;34m(\u001b[0m\u001b[0;34m)\u001b[0m\u001b[0;34m\u001b[0m\u001b[0;34m\u001b[0m\u001b[0m\n\u001b[1;32m     55\u001b[0m \u001b[0msm\u001b[0m \u001b[0;34m=\u001b[0m \u001b[0mplt\u001b[0m\u001b[0;34m.\u001b[0m\u001b[0mcm\u001b[0m\u001b[0;34m.\u001b[0m\u001b[0mScalarMappable\u001b[0m\u001b[0;34m(\u001b[0m\u001b[0mcmap\u001b[0m\u001b[0;34m=\u001b[0m\u001b[0mplt\u001b[0m\u001b[0;34m.\u001b[0m\u001b[0mcm\u001b[0m\u001b[0;34m.\u001b[0m\u001b[0mReds\u001b[0m\u001b[0;34m,\u001b[0m \u001b[0mnorm\u001b[0m\u001b[0;34m=\u001b[0m\u001b[0mplt\u001b[0m\u001b[0;34m.\u001b[0m\u001b[0mNormalize\u001b[0m\u001b[0;34m(\u001b[0m\u001b[0mvmin\u001b[0m\u001b[0;34m=\u001b[0m\u001b[0;36m0\u001b[0m\u001b[0;34m,\u001b[0m \u001b[0mvmax\u001b[0m\u001b[0;34m=\u001b[0m\u001b[0;36m1\u001b[0m\u001b[0;34m)\u001b[0m\u001b[0;34m)\u001b[0m\u001b[0;34m\u001b[0m\u001b[0;34m\u001b[0m\u001b[0m\n",
      "\u001b[0;31mTypeError\u001b[0m: plot() missing 1 required positional argument: 'attention'"
     ]
    }
   ],
   "source": [
    "# Ref: https://discuss.dgl.ai/t/how-to-plot-the-attention-weights/206\n",
    "\n",
    "import matplotlib.pyplot as plt\n",
    "import networkx as nx\n",
    "\n",
    "def plot(g, attention, ax, nodes_to_plot=None, nodes_labels=None,\n",
    "         edges_to_plot=None, nodes_pos=None, nodes_colors=None,\n",
    "         edge_colormap=plt.cm.Reds):\n",
    "    \"\"\"\n",
    "    Visualize edge attentions by coloring edges on the graph.\n",
    "    g: nx.DiGraph\n",
    "        Directed networkx graph\n",
    "    attention: list\n",
    "        Attention values corresponding to the order of sorted(g.edges())\n",
    "    ax: matplotlib.axes._subplots.AxesSubplot\n",
    "        ax to be used for plot\n",
    "    nodes_to_plot: list\n",
    "        List of node ids specifying which nodes to plot. Default to\n",
    "        be None. If None, all nodes will be plot.\n",
    "    nodes_labels: list, numpy.array\n",
    "        nodes_labels[i] specifies the label of the ith node, which will\n",
    "        decide the node color on the plot. Default to be None. If None,\n",
    "        all nodes will have the same canonical label. The nodes_labels\n",
    "        should contain labels for all nodes to be plot.\n",
    "    edges_to_plot: list of 2-tuples (i, j)\n",
    "        List of edges represented as (source, destination). Default to\n",
    "        be None. If None, all edges will be plot.\n",
    "    nodes_pos: dictionary mapping int to numpy.array of size 2\n",
    "        Default to be None. Specifies the layout of nodes on the plot.\n",
    "    nodes_colors: list\n",
    "        Specifies node color for each node class. Its length should be\n",
    "        bigger than number of node classes in nodes_labels.\n",
    "    edge_colormap: plt.cm\n",
    "        Specifies the colormap to be used for coloring edges.\n",
    "    \"\"\"\n",
    "    if nodes_to_plot is None:\n",
    "        nodes_to_plot = sorted(g.nodes())\n",
    "    if edges_to_plot is None:\n",
    "        assert isinstance(g, nx.DiGraph), 'Expected g to be an networkx.DiGraph' \\\n",
    "                                          'object, got {}.'.format(type(g))\n",
    "        edges_to_plot = sorted(g.edges())\n",
    "    nx.draw_networkx_edges(g, nodes_pos, edgelist=edges_to_plot,\n",
    "                           edge_color=attention, edge_cmap=edge_colormap,\n",
    "                           width=2, alpha=0.5, ax=ax, edge_vmin=0,\n",
    "                           edge_vmax=1)\n",
    "\n",
    "    if nodes_colors is None:\n",
    "        nodes_colors = sns.color_palette(\"deep\", max(nodes_labels) + 1)\n",
    "\n",
    "    nx.draw_networkx_nodes(g, nodes_pos, nodelist=nodes_to_plot, ax=ax, node_size=30,\n",
    "                           node_color=[nodes_colors[nodes_labels[v - 1]] for v in nodes_to_plot],\n",
    "                           with_labels=False, alpha=0.9)\n",
    "\n",
    "fig, ax = plt.subplots()\n",
    "plot(g, ax=ax)\n",
    "ax.set_axis_off()\n",
    "sm = plt.cm.ScalarMappable(cmap=plt.cm.Reds, norm=plt.Normalize(vmin=0, vmax=1))\n",
    "sm.set_array([])\n",
    "plt.colorbar(sm, fraction=0.046, pad=0.01)\n",
    "plt.show()"
   ]
  },
  {
   "cell_type": "code",
   "execution_count": null,
   "metadata": {},
   "outputs": [],
   "source": []
  }
 ]
}
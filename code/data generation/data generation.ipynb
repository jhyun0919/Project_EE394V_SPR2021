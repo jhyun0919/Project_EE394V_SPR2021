{
 "cells": [
  {
   "cell_type": "code",
   "execution_count": 1,
   "metadata": {
    "ExecuteTime": {
     "end_time": "2021-05-13T14:52:51.471432Z",
     "start_time": "2021-05-13T14:52:38.931403Z"
    }
   },
   "outputs": [],
   "source": [
    "from data_generator import *\n",
    "from eda_tools import plot_graph"
   ]
  },
  {
   "cell_type": "markdown",
   "metadata": {},
   "source": [
    "## Example of parsing active constraints: DC-OPF"
   ]
  },
  {
   "cell_type": "code",
   "execution_count": 2,
   "metadata": {
    "ExecuteTime": {
     "end_time": "2021-05-13T14:52:51.476876Z",
     "start_time": "2021-05-13T14:52:51.474585Z"
    }
   },
   "outputs": [],
   "source": [
    "org_dir = os.getcwd()\n",
    "os.chdir('./matpower7.1/')"
   ]
  },
  {
   "cell_type": "code",
   "execution_count": 3,
   "metadata": {
    "ExecuteTime": {
     "end_time": "2021-05-13T14:53:23.966981Z",
     "start_time": "2021-05-13T14:52:51.480576Z"
    }
   },
   "outputs": [],
   "source": [
    "eng = matlab.engine.start_matlab()"
   ]
  },
  {
   "cell_type": "code",
   "execution_count": 4,
   "metadata": {
    "ExecuteTime": {
     "end_time": "2021-05-13T14:53:23.975545Z",
     "start_time": "2021-05-13T14:53:23.972383Z"
    }
   },
   "outputs": [],
   "source": [
    "case_name = \"pglib_opf_case24_ieee_rts.m\""
   ]
  },
  {
   "cell_type": "code",
   "execution_count": 5,
   "metadata": {
    "ExecuteTime": {
     "end_time": "2021-05-13T14:53:29.476609Z",
     "start_time": "2021-05-13T14:53:23.980026Z"
    },
    "scrolled": false
   },
   "outputs": [],
   "source": [
    "data = eng.dc_opf_solver(case_name, 0.05)\n",
    "eng.quit()\n",
    "os.chdir(org_dir)"
   ]
  },
  {
   "cell_type": "code",
   "execution_count": 6,
   "metadata": {
    "ExecuteTime": {
     "end_time": "2021-05-13T14:53:29.496681Z",
     "start_time": "2021-05-13T14:53:29.478141Z"
    },
    "scrolled": false
   },
   "outputs": [
    {
     "data": {
      "text/plain": [
       "{'bus_info': {'p_d': array([[110.903404],\n",
       "         [105.89434 ],\n",
       "         [159.67038 ],\n",
       "         [ 77.19004 ],\n",
       "         [ 72.131615],\n",
       "         [127.10772 ],\n",
       "         [122.29005 ],\n",
       "         [173.92944 ],\n",
       "         [206.31097 ],\n",
       "         [222.00201 ],\n",
       "         [  0.      ],\n",
       "         [  0.      ],\n",
       "         [274.6116  ],\n",
       "         [193.38837 ],\n",
       "         [328.32867 ],\n",
       "         [ 98.97517 ],\n",
       "         [  0.      ],\n",
       "         [357.80347 ],\n",
       "         [193.75175 ],\n",
       "         [137.07004 ],\n",
       "         [  0.      ],\n",
       "         [  0.      ],\n",
       "         [  0.      ],\n",
       "         [  0.      ]], dtype=float32),\n",
       "  'bus_idx': array([[ 1.],\n",
       "         [ 2.],\n",
       "         [ 3.],\n",
       "         [ 4.],\n",
       "         [ 5.],\n",
       "         [ 6.],\n",
       "         [ 7.],\n",
       "         [ 8.],\n",
       "         [ 9.],\n",
       "         [10.],\n",
       "         [11.],\n",
       "         [12.],\n",
       "         [13.],\n",
       "         [14.],\n",
       "         [15.],\n",
       "         [16.],\n",
       "         [17.],\n",
       "         [18.],\n",
       "         [19.],\n",
       "         [20.],\n",
       "         [21.],\n",
       "         [22.],\n",
       "         [23.],\n",
       "         [24.]], dtype=float32)},\n",
       " 'gen_info': {'p_g': array([[ 16.      ],\n",
       "         [ 16.      ],\n",
       "         [ 76.      ],\n",
       "         [ 76.      ],\n",
       "         [ 16.      ],\n",
       "         [ 16.      ],\n",
       "         [ 76.      ],\n",
       "         [ 76.      ],\n",
       "         [ 61.521976],\n",
       "         [ 61.521976],\n",
       "         [ 61.521976],\n",
       "         [108.93104 ],\n",
       "         [108.93104 ],\n",
       "         [108.93104 ],\n",
       "         [  0.      ],\n",
       "         [  2.4     ],\n",
       "         [  2.4     ],\n",
       "         [  2.4     ],\n",
       "         [  2.4     ],\n",
       "         [  2.4     ],\n",
       "         [155.      ],\n",
       "         [155.      ],\n",
       "         [400.      ],\n",
       "         [400.      ],\n",
       "         [ 50.      ],\n",
       "         [ 50.      ],\n",
       "         [ 50.      ],\n",
       "         [ 50.      ],\n",
       "         [ 50.      ],\n",
       "         [ 50.      ],\n",
       "         [155.      ],\n",
       "         [155.      ],\n",
       "         [350.      ]], dtype=float32),\n",
       "  'p_g_lim': array([[ 20. ,  16. ],\n",
       "         [ 20. ,  16. ],\n",
       "         [ 76. ,  15.2],\n",
       "         [ 76. ,  15.2],\n",
       "         [ 20. ,  16. ],\n",
       "         [ 20. ,  16. ],\n",
       "         [ 76. ,  15.2],\n",
       "         [ 76. ,  15.2],\n",
       "         [100. ,  25. ],\n",
       "         [100. ,  25. ],\n",
       "         [100. ,  25. ],\n",
       "         [197. ,  69. ],\n",
       "         [197. ,  69. ],\n",
       "         [197. ,  69. ],\n",
       "         [  0. ,   0. ],\n",
       "         [ 12. ,   2.4],\n",
       "         [ 12. ,   2.4],\n",
       "         [ 12. ,   2.4],\n",
       "         [ 12. ,   2.4],\n",
       "         [ 12. ,   2.4],\n",
       "         [155. ,  54.3],\n",
       "         [155. ,  54.3],\n",
       "         [400. , 100. ],\n",
       "         [400. , 100. ],\n",
       "         [ 50. ,  10. ],\n",
       "         [ 50. ,  10. ],\n",
       "         [ 50. ,  10. ],\n",
       "         [ 50. ,  10. ],\n",
       "         [ 50. ,  10. ],\n",
       "         [ 50. ,  10. ],\n",
       "         [155. ,  54.3],\n",
       "         [155. ,  54.3],\n",
       "         [350. , 140. ]], dtype=float32),\n",
       "  'gen2bus': array([[ 1.],\n",
       "         [ 1.],\n",
       "         [ 1.],\n",
       "         [ 1.],\n",
       "         [ 2.],\n",
       "         [ 2.],\n",
       "         [ 2.],\n",
       "         [ 2.],\n",
       "         [ 7.],\n",
       "         [ 7.],\n",
       "         [ 7.],\n",
       "         [13.],\n",
       "         [13.],\n",
       "         [13.],\n",
       "         [14.],\n",
       "         [15.],\n",
       "         [15.],\n",
       "         [15.],\n",
       "         [15.],\n",
       "         [15.],\n",
       "         [15.],\n",
       "         [16.],\n",
       "         [18.],\n",
       "         [21.],\n",
       "         [22.],\n",
       "         [22.],\n",
       "         [22.],\n",
       "         [22.],\n",
       "         [22.],\n",
       "         [22.],\n",
       "         [23.],\n",
       "         [23.],\n",
       "         [23.]], dtype=float32)},\n",
       " 'flow_info': {'p_f': array([[  15.279237],\n",
       "         [  -9.634928],\n",
       "         [  67.452286],\n",
       "         [  42.83373 ],\n",
       "         [  50.551167],\n",
       "         [  34.55094 ],\n",
       "         [-203.85625 ],\n",
       "         [ -34.35631 ],\n",
       "         [  -4.679328],\n",
       "         [ -76.55656 ],\n",
       "         [  62.27588 ],\n",
       "         [ -65.54776 ],\n",
       "         [ -46.105797],\n",
       "         [-127.11082 ],\n",
       "         [-144.5533  ],\n",
       "         [-165.8651  ],\n",
       "         [-183.47859 ],\n",
       "         [-137.15968 ],\n",
       "         [-155.81624 ],\n",
       "         [-105.49315 ],\n",
       "         [-222.53874 ],\n",
       "         [-190.47131 ],\n",
       "         [-349.20462 ],\n",
       "         [  70.903656],\n",
       "         [-218.0443  ],\n",
       "         [-218.0443  ],\n",
       "         [ 203.85625 ],\n",
       "         [-306.10794 ],\n",
       "         [  83.83183 ],\n",
       "         [-165.59607 ],\n",
       "         [-140.51189 ],\n",
       "         [ -61.699768],\n",
       "         [ -61.699768],\n",
       "         [ -54.959965],\n",
       "         [ -54.959965],\n",
       "         [-123.49498 ],\n",
       "         [-123.49498 ],\n",
       "         [-159.48811 ]], dtype=float32),\n",
       "  'p_f_lim': array([[ 175., -175.],\n",
       "         [ 175., -175.],\n",
       "         [ 175., -175.],\n",
       "         [ 175., -175.],\n",
       "         [ 175., -175.],\n",
       "         [ 175., -175.],\n",
       "         [ 400., -400.],\n",
       "         [ 175., -175.],\n",
       "         [ 175., -175.],\n",
       "         [ 175., -175.],\n",
       "         [ 175., -175.],\n",
       "         [ 175., -175.],\n",
       "         [ 175., -175.],\n",
       "         [ 400., -400.],\n",
       "         [ 400., -400.],\n",
       "         [ 400., -400.],\n",
       "         [ 400., -400.],\n",
       "         [ 500., -500.],\n",
       "         [ 500., -500.],\n",
       "         [ 500., -500.],\n",
       "         [ 500., -500.],\n",
       "         [ 500., -500.],\n",
       "         [ 500., -500.],\n",
       "         [ 500., -500.],\n",
       "         [ 500., -500.],\n",
       "         [ 500., -500.],\n",
       "         [ 500., -500.],\n",
       "         [ 500., -500.],\n",
       "         [ 500., -500.],\n",
       "         [ 500., -500.],\n",
       "         [ 500., -500.],\n",
       "         [ 500., -500.],\n",
       "         [ 500., -500.],\n",
       "         [ 500., -500.],\n",
       "         [ 500., -500.],\n",
       "         [ 500., -500.],\n",
       "         [ 500., -500.],\n",
       "         [ 500., -500.]], dtype=float32),\n",
       "  'bus2bus': array([[ 1.,  2.],\n",
       "         [ 1.,  3.],\n",
       "         [ 1.,  5.],\n",
       "         [ 2.,  4.],\n",
       "         [ 2.,  6.],\n",
       "         [ 3.,  9.],\n",
       "         [ 3., 24.],\n",
       "         [ 4.,  9.],\n",
       "         [ 5., 10.],\n",
       "         [ 6., 10.],\n",
       "         [ 7.,  8.],\n",
       "         [ 8.,  9.],\n",
       "         [ 8., 10.],\n",
       "         [ 9., 11.],\n",
       "         [ 9., 12.],\n",
       "         [10., 11.],\n",
       "         [10., 12.],\n",
       "         [11., 13.],\n",
       "         [11., 14.],\n",
       "         [12., 13.],\n",
       "         [12., 23.],\n",
       "         [13., 23.],\n",
       "         [14., 16.],\n",
       "         [15., 16.],\n",
       "         [15., 21.],\n",
       "         [15., 21.],\n",
       "         [15., 24.],\n",
       "         [16., 17.],\n",
       "         [16., 19.],\n",
       "         [17., 18.],\n",
       "         [17., 22.],\n",
       "         [18., 21.],\n",
       "         [18., 21.],\n",
       "         [19., 20.],\n",
       "         [19., 20.],\n",
       "         [20., 23.],\n",
       "         [20., 23.],\n",
       "         [21., 22.]], dtype=float32)},\n",
       " 'w_info': {'w': array([[  2.9034026,   8.894342 , -20.329622 ,   3.1900413,   1.1316166,\n",
       "           -8.892281 ,  -2.7099502,   2.9294393,  31.310974 ,  27.00201  ,\n",
       "            0.       ,   0.       ,   9.611606 ,  -0.6116323,  11.328675 ,\n",
       "           -1.0248303,   0.       ,  24.803465 ,  12.751762 ,   9.070031 ,\n",
       "            0.       ,   0.       ,   0.       ,   0.       ]],\n",
       "        dtype=float32)},\n",
       " 'success_info': {'success': array(1., dtype=float32)}}"
      ]
     },
     "execution_count": 6,
     "metadata": {},
     "output_type": "execute_result"
    }
   ],
   "source": [
    "data = standardize_data_type(data, \"float32\")\n",
    "data"
   ]
  },
  {
   "cell_type": "code",
   "execution_count": 7,
   "metadata": {
    "ExecuteTime": {
     "end_time": "2021-05-13T14:53:29.501861Z",
     "start_time": "2021-05-13T14:53:29.498647Z"
    }
   },
   "outputs": [
    {
     "data": {
      "text/plain": [
       "True"
      ]
     },
     "execution_count": 7,
     "metadata": {},
     "output_type": "execute_result"
    }
   ],
   "source": [
    "data[\"success_info\"][\"success\"] == 1"
   ]
  },
  {
   "cell_type": "markdown",
   "metadata": {},
   "source": [
    "### an example of feature: x"
   ]
  },
  {
   "cell_type": "code",
   "execution_count": 8,
   "metadata": {
    "ExecuteTime": {
     "end_time": "2021-05-13T14:53:29.507149Z",
     "start_time": "2021-05-13T14:53:29.503722Z"
    }
   },
   "outputs": [
    {
     "data": {
      "text/plain": [
       "array([[  2.9034026,   8.894342 , -20.329622 ,   3.1900413,   1.1316166,\n",
       "         -8.892281 ,  -2.7099502,   2.9294393,  31.310974 ,  27.00201  ,\n",
       "          0.       ,   0.       ,   9.611606 ,  -0.6116323,  11.328675 ,\n",
       "         -1.0248303,   0.       ,  24.803465 ,  12.751762 ,   9.070031 ,\n",
       "          0.       ,   0.       ,   0.       ,   0.       ]],\n",
       "      dtype=float32)"
      ]
     },
     "execution_count": 8,
     "metadata": {},
     "output_type": "execute_result"
    }
   ],
   "source": [
    "data[\"w_info\"][\"w\"]"
   ]
  },
  {
   "cell_type": "code",
   "execution_count": 9,
   "metadata": {
    "ExecuteTime": {
     "end_time": "2021-05-13T14:53:29.513146Z",
     "start_time": "2021-05-13T14:53:29.509046Z"
    }
   },
   "outputs": [
    {
     "data": {
      "text/plain": [
       "array([[  2.9034026],\n",
       "       [  8.894342 ],\n",
       "       [-20.329622 ],\n",
       "       [  3.1900413],\n",
       "       [  1.1316166],\n",
       "       [ -8.892281 ],\n",
       "       [ -2.7099502],\n",
       "       [  2.9294393],\n",
       "       [ 31.310974 ],\n",
       "       [ 27.00201  ],\n",
       "       [  0.       ],\n",
       "       [  0.       ],\n",
       "       [  9.611606 ],\n",
       "       [ -0.6116323],\n",
       "       [ 11.328675 ],\n",
       "       [ -1.0248303],\n",
       "       [  0.       ],\n",
       "       [ 24.803465 ],\n",
       "       [ 12.751762 ],\n",
       "       [  9.070031 ],\n",
       "       [  0.       ],\n",
       "       [  0.       ],\n",
       "       [  0.       ],\n",
       "       [  0.       ]], dtype=float32)"
      ]
     },
     "execution_count": 9,
     "metadata": {},
     "output_type": "execute_result"
    }
   ],
   "source": [
    "x = data[\"w_info\"][\"w\"].reshape(data[\"w_info\"][\"w\"].shape[1], 1)\n",
    "x"
   ]
  },
  {
   "cell_type": "code",
   "execution_count": 10,
   "metadata": {
    "ExecuteTime": {
     "end_time": "2021-05-13T14:53:29.518857Z",
     "start_time": "2021-05-13T14:53:29.515514Z"
    }
   },
   "outputs": [
    {
     "data": {
      "text/plain": [
       "(24, 1)"
      ]
     },
     "execution_count": 10,
     "metadata": {},
     "output_type": "execute_result"
    }
   ],
   "source": [
    "x.shape"
   ]
  },
  {
   "cell_type": "code",
   "execution_count": null,
   "metadata": {},
   "outputs": [],
   "source": []
  },
  {
   "cell_type": "markdown",
   "metadata": {},
   "source": [
    "### an example of lable: y"
   ]
  },
  {
   "cell_type": "code",
   "execution_count": 11,
   "metadata": {
    "ExecuteTime": {
     "end_time": "2021-05-13T14:53:29.524269Z",
     "start_time": "2021-05-13T14:53:29.520424Z"
    }
   },
   "outputs": [
    {
     "data": {
      "text/plain": [
       "array([[ 16.      ],\n",
       "       [ 16.      ],\n",
       "       [ 76.      ],\n",
       "       [ 76.      ],\n",
       "       [ 16.      ],\n",
       "       [ 16.      ],\n",
       "       [ 76.      ],\n",
       "       [ 76.      ],\n",
       "       [ 61.521976],\n",
       "       [ 61.521976],\n",
       "       [ 61.521976],\n",
       "       [108.93104 ],\n",
       "       [108.93104 ],\n",
       "       [108.93104 ],\n",
       "       [  0.      ],\n",
       "       [  2.4     ],\n",
       "       [  2.4     ],\n",
       "       [  2.4     ],\n",
       "       [  2.4     ],\n",
       "       [  2.4     ],\n",
       "       [155.      ],\n",
       "       [155.      ],\n",
       "       [400.      ],\n",
       "       [400.      ],\n",
       "       [ 50.      ],\n",
       "       [ 50.      ],\n",
       "       [ 50.      ],\n",
       "       [ 50.      ],\n",
       "       [ 50.      ],\n",
       "       [ 50.      ],\n",
       "       [155.      ],\n",
       "       [155.      ],\n",
       "       [350.      ]], dtype=float32)"
      ]
     },
     "execution_count": 11,
     "metadata": {},
     "output_type": "execute_result"
    }
   ],
   "source": [
    "data[\"gen_info\"]['p_g']"
   ]
  },
  {
   "cell_type": "code",
   "execution_count": 12,
   "metadata": {
    "ExecuteTime": {
     "end_time": "2021-05-13T14:53:29.543730Z",
     "start_time": "2021-05-13T14:53:29.530838Z"
    }
   },
   "outputs": [
    {
     "data": {
      "text/plain": [
       "array([[ 20. ,  16. ],\n",
       "       [ 20. ,  16. ],\n",
       "       [ 76. ,  15.2],\n",
       "       [ 76. ,  15.2],\n",
       "       [ 20. ,  16. ],\n",
       "       [ 20. ,  16. ],\n",
       "       [ 76. ,  15.2],\n",
       "       [ 76. ,  15.2],\n",
       "       [100. ,  25. ],\n",
       "       [100. ,  25. ],\n",
       "       [100. ,  25. ],\n",
       "       [197. ,  69. ],\n",
       "       [197. ,  69. ],\n",
       "       [197. ,  69. ],\n",
       "       [  0. ,   0. ],\n",
       "       [ 12. ,   2.4],\n",
       "       [ 12. ,   2.4],\n",
       "       [ 12. ,   2.4],\n",
       "       [ 12. ,   2.4],\n",
       "       [ 12. ,   2.4],\n",
       "       [155. ,  54.3],\n",
       "       [155. ,  54.3],\n",
       "       [400. , 100. ],\n",
       "       [400. , 100. ],\n",
       "       [ 50. ,  10. ],\n",
       "       [ 50. ,  10. ],\n",
       "       [ 50. ,  10. ],\n",
       "       [ 50. ,  10. ],\n",
       "       [ 50. ,  10. ],\n",
       "       [ 50. ,  10. ],\n",
       "       [155. ,  54.3],\n",
       "       [155. ,  54.3],\n",
       "       [350. , 140. ]], dtype=float32)"
      ]
     },
     "execution_count": 12,
     "metadata": {},
     "output_type": "execute_result"
    }
   ],
   "source": [
    "data[\"gen_info\"]['p_g_lim']"
   ]
  },
  {
   "cell_type": "code",
   "execution_count": 13,
   "metadata": {
    "ExecuteTime": {
     "end_time": "2021-05-13T14:53:29.552164Z",
     "start_time": "2021-05-13T14:53:29.547652Z"
    }
   },
   "outputs": [
    {
     "data": {
      "text/plain": [
       "array([[ 1.],\n",
       "       [ 1.],\n",
       "       [ 1.],\n",
       "       [ 1.],\n",
       "       [ 2.],\n",
       "       [ 2.],\n",
       "       [ 2.],\n",
       "       [ 2.],\n",
       "       [ 7.],\n",
       "       [ 7.],\n",
       "       [ 7.],\n",
       "       [13.],\n",
       "       [13.],\n",
       "       [13.],\n",
       "       [14.],\n",
       "       [15.],\n",
       "       [15.],\n",
       "       [15.],\n",
       "       [15.],\n",
       "       [15.],\n",
       "       [15.],\n",
       "       [16.],\n",
       "       [18.],\n",
       "       [21.],\n",
       "       [22.],\n",
       "       [22.],\n",
       "       [22.],\n",
       "       [22.],\n",
       "       [22.],\n",
       "       [22.],\n",
       "       [23.],\n",
       "       [23.],\n",
       "       [23.]], dtype=float32)"
      ]
     },
     "execution_count": 13,
     "metadata": {},
     "output_type": "execute_result"
    }
   ],
   "source": [
    "data[\"gen_info\"]['gen2bus']"
   ]
  },
  {
   "cell_type": "code",
   "execution_count": 18,
   "metadata": {
    "ExecuteTime": {
     "end_time": "2021-05-13T14:56:52.042511Z",
     "start_time": "2021-05-13T14:56:52.034628Z"
    }
   },
   "outputs": [
    {
     "data": {
      "text/plain": [
       "array([[-1., -1., -1., -1.,  0.,  0.],\n",
       "       [-1., -1., -1., -1.,  0.,  0.],\n",
       "       [ 0.,  0.,  0.,  0.,  0.,  0.],\n",
       "       [ 0.,  0.,  0.,  0.,  0.,  0.],\n",
       "       [ 0.,  0.,  0.,  0.,  0.,  0.],\n",
       "       [ 0.,  0.,  0.,  0.,  0.,  0.],\n",
       "       [ 0.,  0.,  0.,  0.,  0.,  0.],\n",
       "       [ 0.,  0.,  0.,  0.,  0.,  0.],\n",
       "       [ 0.,  0.,  0.,  0.,  0.,  0.],\n",
       "       [ 0.,  0.,  0.,  0.,  0.,  0.],\n",
       "       [ 0.,  0.,  0.,  0.,  0.,  0.],\n",
       "       [ 0.,  0.,  0.,  0.,  0.,  0.],\n",
       "       [ 0.,  0.,  0.,  0.,  0.,  0.],\n",
       "       [ 0.,  0.,  0.,  0.,  0.,  0.],\n",
       "       [-1., -1., -1., -1., -1., -1.],\n",
       "       [ 1.,  0.,  0.,  0.,  0.,  0.],\n",
       "       [ 0.,  0.,  0.,  0.,  0.,  0.],\n",
       "       [ 1.,  0.,  0.,  0.,  0.,  0.],\n",
       "       [ 0.,  0.,  0.,  0.,  0.,  0.],\n",
       "       [ 0.,  0.,  0.,  0.,  0.,  0.],\n",
       "       [ 1.,  0.,  0.,  0.,  0.,  0.],\n",
       "       [ 1.,  1.,  1.,  1.,  1.,  1.],\n",
       "       [ 1.,  1.,  1.,  0.,  0.,  0.],\n",
       "       [ 0.,  0.,  0.,  0.,  0.,  0.]])"
      ]
     },
     "execution_count": 18,
     "metadata": {},
     "output_type": "execute_result"
    }
   ],
   "source": [
    "y = get_active_gen_constraints(data)\n",
    "y"
   ]
  },
  {
   "cell_type": "code",
   "execution_count": null,
   "metadata": {},
   "outputs": [],
   "source": []
  },
  {
   "cell_type": "markdown",
   "metadata": {},
   "source": [
    "### a graph representaion of the power system"
   ]
  },
  {
   "cell_type": "code",
   "execution_count": 15,
   "metadata": {
    "ExecuteTime": {
     "end_time": "2021-05-13T14:53:29.567577Z",
     "start_time": "2021-05-13T14:53:29.565083Z"
    }
   },
   "outputs": [],
   "source": [
    "g = {\n",
    "    \"bus_idx\": data[\"bus_info\"][\"bus_idx\"].squeeze(),\n",
    "    \"fbus2tbus\": data[\"flow_info\"][\"bus2bus\"],\n",
    "    \"gen_bus_idx\":data[\"gen_info\"][\"gen2bus\"]\n",
    "}"
   ]
  },
  {
   "cell_type": "code",
   "execution_count": 16,
   "metadata": {
    "ExecuteTime": {
     "end_time": "2021-05-13T14:53:29.816487Z",
     "start_time": "2021-05-13T14:53:29.569590Z"
    }
   },
   "outputs": [
    {
     "data": {
      "image/png": "[encoded data removed]",
      "text/plain": [
       "<Figure size 576x432 with 1 Axes>"
      ]
     },
     "metadata": {},
     "output_type": "display_data"
    }
   ],
   "source": [
    "plot_graph(g)"
   ]
  },
  {
   "cell_type": "code",
   "execution_count": null,
   "metadata": {},
   "outputs": [],
   "source": []
  },
  {
   "cell_type": "markdown",
   "metadata": {},
   "source": [
    "## Build Datasets"
   ]
  },
  {
   "cell_type": "markdown",
   "metadata": {},
   "source": [
    "### create an example dataset\n",
    "- **x**: uncertainty realization as a feature input\n",
    "- **y**: active constraints index as a label output\n",
    "- **g**: graph information"
   ]
  },
  {
   "cell_type": "code",
   "execution_count": 19,
   "metadata": {
    "ExecuteTime": {
     "end_time": "2021-05-13T09:09:46.904390Z",
     "start_time": "2021-05-13T09:09:46.902329Z"
    }
   },
   "outputs": [],
   "source": [
    "case_name = \"pglib_opf_case24_ieee_rts.m\""
   ]
  },
  {
   "cell_type": "code",
   "execution_count": 20,
   "metadata": {
    "ExecuteTime": {
     "end_time": "2021-05-13T09:10:33.206204Z",
     "start_time": "2021-05-13T09:09:48.602428Z"
    },
    "scrolled": false
   },
   "outputs": [
    {
     "name": "stdout",
     "output_type": "stream",
     "text": [
      "> creating dataset with pglib_opf_case24_ieee_rts.m\n"
     ]
    },
    {
     "name": "stderr",
     "output_type": "stream",
     "text": [
      "100%|██████████| 10/10 [00:11<00:00,  1.17s/it]\n"
     ]
    }
   ],
   "source": [
    "create_dataset(test_case=case_name,\n",
    "               dataset_size=10,\n",
    "               std_scaler=0.03,\n",
    "               gen_only=True)"
   ]
  },
  {
   "cell_type": "markdown",
   "metadata": {},
   "source": [
    "### check the example dataset"
   ]
  },
  {
   "cell_type": "code",
   "execution_count": 21,
   "metadata": {
    "ExecuteTime": {
     "end_time": "2021-05-13T09:10:48.448882Z",
     "start_time": "2021-05-13T09:10:48.440417Z"
    }
   },
   "outputs": [],
   "source": [
    "dataset = load_dataset(case_name,\n",
    "                       dataset_size=10,\n",
    "                       std_scaler=0.03,\n",
    "                       gen_only=True)"
   ]
  },
  {
   "cell_type": "code",
   "execution_count": 22,
   "metadata": {
    "ExecuteTime": {
     "end_time": "2021-05-13T09:10:48.892485Z",
     "start_time": "2021-05-13T09:10:48.889178Z"
    }
   },
   "outputs": [
    {
     "data": {
      "text/plain": [
       "((10, 24, 1), (10, 24, 6))"
      ]
     },
     "execution_count": 22,
     "metadata": {},
     "output_type": "execute_result"
    }
   ],
   "source": [
    "dataset['x'].shape, dataset['y'].shape # (num_samples, num_buses) "
   ]
  },
  {
   "cell_type": "code",
   "execution_count": 23,
   "metadata": {
    "ExecuteTime": {
     "end_time": "2021-05-13T09:10:50.300973Z",
     "start_time": "2021-05-13T09:10:50.294377Z"
    }
   },
   "outputs": [
    {
     "data": {
      "text/plain": [
       "array([[[  1.7420416 ],\n",
       "        [  5.3366055 ],\n",
       "        [-12.197773  ],\n",
       "        [  1.9140248 ],\n",
       "        [  0.67897   ],\n",
       "        [ -5.335368  ],\n",
       "        [ -1.6259701 ],\n",
       "        [  1.7576635 ],\n",
       "        [ 18.786585  ],\n",
       "        [ 16.201206  ],\n",
       "        [  0.        ],\n",
       "        [  0.        ],\n",
       "        [  5.7669635 ],\n",
       "        [ -0.36697936],\n",
       "        [  6.797205  ],\n",
       "        [ -0.61489815],\n",
       "        [  0.        ],\n",
       "        [ 14.882079  ],\n",
       "        [  7.6510572 ],\n",
       "        [  5.442019  ],\n",
       "        [  0.        ],\n",
       "        [  0.        ],\n",
       "        [  0.        ],\n",
       "        [  0.        ]],\n",
       "\n",
       "       [[  1.5840158 ],\n",
       "        [  3.0109568 ],\n",
       "        [  3.9251797 ],\n",
       "        [ -0.6736389 ],\n",
       "        [  0.6259462 ],\n",
       "        [ -3.2121139 ],\n",
       "        [  3.3314836 ],\n",
       "        [ -5.8844695 ],\n",
       "        [ -5.61157   ],\n",
       "        [ -4.7355676 ],\n",
       "        [  0.        ],\n",
       "        [  0.        ],\n",
       "        [  2.5852647 ],\n",
       "        [ -4.393683  ],\n",
       "        [ 13.031539  ],\n",
       "        [ -5.134549  ],\n",
       "        [  0.        ],\n",
       "        [ -2.412056  ],\n",
       "        [  1.7332926 ],\n",
       "        [  1.201377  ],\n",
       "        [  0.        ],\n",
       "        [  0.        ],\n",
       "        [  0.        ],\n",
       "        [  0.        ]],\n",
       "\n",
       "       [[  3.5421808 ],\n",
       "        [  3.2279854 ],\n",
       "        [ -4.6637254 ],\n",
       "        [  0.17173718],\n",
       "        [ -2.5860693 ],\n",
       "        [ -4.543083  ],\n",
       "        [ -0.02568498],\n",
       "        [  7.8623934 ],\n",
       "        [ -4.040746  ],\n",
       "        [  2.172566  ],\n",
       "        [  0.        ],\n",
       "        [  0.        ],\n",
       "        [ -8.658061  ],\n",
       "        [  0.18948445],\n",
       "        [  5.254532  ],\n",
       "        [  3.3018308 ],\n",
       "        [  0.        ],\n",
       "        [  0.858452  ],\n",
       "        [ -8.099336  ],\n",
       "        [ -2.850439  ],\n",
       "        [  0.        ],\n",
       "        [  0.        ],\n",
       "        [  0.        ],\n",
       "        [  0.        ]],\n",
       "\n",
       "       [[ -0.623436  ],\n",
       "        [  2.5858564 ],\n",
       "        [ -4.130186  ],\n",
       "        [ -3.113037  ],\n",
       "        [ -3.0296607 ],\n",
       "        [  1.9918312 ],\n",
       "        [ -0.66515684],\n",
       "        [ -1.0057544 ],\n",
       "        [  7.4513783 ],\n",
       "        [  1.7057686 ],\n",
       "        [  0.        ],\n",
       "        [  0.        ],\n",
       "        [ -6.3955045 ],\n",
       "        [  4.054354  ],\n",
       "        [  7.9416885 ],\n",
       "        [ -0.73114544],\n",
       "        [  0.        ],\n",
       "        [-11.646781  ],\n",
       "        [ -6.2333837 ],\n",
       "        [  0.4027189 ],\n",
       "        [  0.        ],\n",
       "        [  0.        ],\n",
       "        [  0.        ],\n",
       "        [  0.        ]],\n",
       "\n",
       "       [[ -0.26728195],\n",
       "        [ -5.625097  ],\n",
       "        [ -2.370417  ],\n",
       "        [ -3.9841871 ],\n",
       "        [  1.7899998 ],\n",
       "        [ -3.6231709 ],\n",
       "        [  0.37534812],\n",
       "        [ -2.7934334 ],\n",
       "        [  1.5934842 ],\n",
       "        [ -3.5119104 ],\n",
       "        [  0.        ],\n",
       "        [  0.        ],\n",
       "        [ 13.609508  ],\n",
       "        [ -1.129799  ],\n",
       "        [-20.335758  ],\n",
       "        [ -2.5187662 ],\n",
       "        [  0.        ],\n",
       "        [-10.710832  ],\n",
       "        [  5.2179794 ],\n",
       "        [  0.47635123],\n",
       "        [  0.        ],\n",
       "        [  0.        ],\n",
       "        [  0.        ],\n",
       "        [  0.        ]],\n",
       "\n",
       "       [[  9.421946  ],\n",
       "        [  2.401387  ],\n",
       "        [  7.446449  ],\n",
       "        [ -2.3491602 ],\n",
       "        [ -0.9981512 ],\n",
       "        [ -1.1116751 ],\n",
       "        [  4.1190925 ],\n",
       "        [ -1.425483  ],\n",
       "        [  3.6830926 ],\n",
       "        [-12.003125  ],\n",
       "        [  0.        ],\n",
       "        [  0.        ],\n",
       "        [-12.537603  ],\n",
       "        [  2.9564126 ],\n",
       "        [  2.6816685 ],\n",
       "        [  0.10043965],\n",
       "        [  0.        ],\n",
       "        [ 11.263648  ],\n",
       "        [  1.9014742 ],\n",
       "        [ -1.1484135 ],\n",
       "        [  0.        ],\n",
       "        [  0.        ],\n",
       "        [  0.        ],\n",
       "        [  0.        ]],\n",
       "\n",
       "       [[ -2.6936276 ],\n",
       "        [ -2.8494904 ],\n",
       "        [ -6.244569  ],\n",
       "        [ -1.1844968 ],\n",
       "        [ -4.265614  ],\n",
       "        [  3.934056  ],\n",
       "        [  1.9502254 ],\n",
       "        [ -0.10274288],\n",
       "        [ -0.1825482 ],\n",
       "        [ -4.669257  ],\n",
       "        [  0.        ],\n",
       "        [  0.        ],\n",
       "        [ -5.680515  ],\n",
       "        [  7.865065  ],\n",
       "        [ -2.1375728 ],\n",
       "        [ -1.7670871 ],\n",
       "        [  0.        ],\n",
       "        [ -8.470783  ],\n",
       "        [ -6.082297  ],\n",
       "        [  9.699839  ],\n",
       "        [  0.        ],\n",
       "        [  0.        ],\n",
       "        [  0.        ],\n",
       "        [  0.        ]],\n",
       "\n",
       "       [[ -0.5719705 ],\n",
       "        [  2.3030207 ],\n",
       "        [ -7.192824  ],\n",
       "        [ -5.172305  ],\n",
       "        [ -3.0865772 ],\n",
       "        [  1.3607242 ],\n",
       "        [  1.467576  ],\n",
       "        [  2.3171153 ],\n",
       "        [ -0.6839944 ],\n",
       "        [  1.0745813 ],\n",
       "        [  0.        ],\n",
       "        [  0.        ],\n",
       "        [-10.825471  ],\n",
       "        [  2.648272  ],\n",
       "        [ -8.071226  ],\n",
       "        [ -1.0046608 ],\n",
       "        [  0.        ],\n",
       "        [ 10.380516  ],\n",
       "        [ -6.068778  ],\n",
       "        [  4.8409295 ],\n",
       "        [  0.        ],\n",
       "        [  0.        ],\n",
       "        [  0.        ],\n",
       "        [  0.        ]],\n",
       "\n",
       "       [[ -0.9820687 ],\n",
       "        [  0.06706277],\n",
       "        [  0.2769679 ],\n",
       "        [  1.8338594 ],\n",
       "        [  3.2524602 ],\n",
       "        [  1.9050109 ],\n",
       "        [ -0.786425  ],\n",
       "        [  3.2072265 ],\n",
       "        [  0.96194315],\n",
       "        [ -6.0241404 ],\n",
       "        [  0.        ],\n",
       "        [  0.        ],\n",
       "        [  1.0746408 ],\n",
       "        [  2.9987338 ],\n",
       "        [  2.485974  ],\n",
       "        [ -2.8244574 ],\n",
       "        [  0.        ],\n",
       "        [ -1.4590858 ],\n",
       "        [ -2.8888218 ],\n",
       "        [  6.4592776 ],\n",
       "        [  0.        ],\n",
       "        [  0.        ],\n",
       "        [  0.        ],\n",
       "        [  0.        ]],\n",
       "\n",
       "       [[ -0.622856  ],\n",
       "        [ -0.79754436],\n",
       "        [  8.262392  ],\n",
       "        [ -0.5528349 ],\n",
       "        [ -2.2667747 ],\n",
       "        [  6.5421057 ],\n",
       "        [  4.630047  ],\n",
       "        [ -1.1779836 ],\n",
       "        [ -7.9073386 ],\n",
       "        [ -2.6010728 ],\n",
       "        [  0.        ],\n",
       "        [  0.        ],\n",
       "        [ -2.076251  ],\n",
       "        [  2.5807154 ],\n",
       "        [  3.726914  ],\n",
       "        [ -3.7520368 ],\n",
       "        [  0.        ],\n",
       "        [ -7.40365   ],\n",
       "        [ -2.7574494 ],\n",
       "        [ -1.23101   ],\n",
       "        [  0.        ],\n",
       "        [  0.        ],\n",
       "        [  0.        ],\n",
       "        [  0.        ]]], dtype=float32)"
      ]
     },
     "execution_count": 23,
     "metadata": {},
     "output_type": "execute_result"
    }
   ],
   "source": [
    "dataset['x']"
   ]
  },
  {
   "cell_type": "code",
   "execution_count": 24,
   "metadata": {
    "ExecuteTime": {
     "end_time": "2021-05-13T09:10:51.299729Z",
     "start_time": "2021-05-13T09:10:51.294942Z"
    },
    "scrolled": false
   },
   "outputs": [
    {
     "data": {
      "text/plain": [
       "array([[[2., 2., 2., 2., 0., 0.],\n",
       "        [2., 2., 2., 2., 0., 0.],\n",
       "        [0., 0., 0., 0., 0., 0.],\n",
       "        ...,\n",
       "        [1., 1., 1., 1., 1., 1.],\n",
       "        [1., 1., 1., 0., 0., 0.],\n",
       "        [0., 0., 0., 0., 0., 0.]],\n",
       "\n",
       "       [[2., 2., 2., 2., 0., 0.],\n",
       "        [2., 2., 2., 2., 0., 0.],\n",
       "        [0., 0., 0., 0., 0., 0.],\n",
       "        ...,\n",
       "        [1., 1., 1., 1., 1., 1.],\n",
       "        [1., 1., 1., 0., 0., 0.],\n",
       "        [0., 0., 0., 0., 0., 0.]],\n",
       "\n",
       "       [[2., 2., 2., 2., 0., 0.],\n",
       "        [2., 2., 2., 2., 0., 0.],\n",
       "        [0., 0., 0., 0., 0., 0.],\n",
       "        ...,\n",
       "        [1., 1., 1., 1., 1., 1.],\n",
       "        [1., 1., 1., 0., 0., 0.],\n",
       "        [0., 0., 0., 0., 0., 0.]],\n",
       "\n",
       "       ...,\n",
       "\n",
       "       [[2., 2., 2., 2., 0., 0.],\n",
       "        [2., 2., 2., 2., 0., 0.],\n",
       "        [0., 0., 0., 0., 0., 0.],\n",
       "        ...,\n",
       "        [1., 1., 1., 1., 1., 1.],\n",
       "        [1., 1., 1., 0., 0., 0.],\n",
       "        [0., 0., 0., 0., 0., 0.]],\n",
       "\n",
       "       [[2., 2., 2., 2., 0., 0.],\n",
       "        [2., 2., 2., 2., 0., 0.],\n",
       "        [0., 0., 0., 0., 0., 0.],\n",
       "        ...,\n",
       "        [1., 1., 1., 1., 1., 1.],\n",
       "        [1., 1., 1., 0., 0., 0.],\n",
       "        [0., 0., 0., 0., 0., 0.]],\n",
       "\n",
       "       [[2., 2., 2., 2., 0., 0.],\n",
       "        [2., 2., 2., 2., 0., 0.],\n",
       "        [0., 0., 0., 0., 0., 0.],\n",
       "        ...,\n",
       "        [1., 1., 1., 1., 1., 1.],\n",
       "        [1., 1., 1., 0., 0., 0.],\n",
       "        [0., 0., 0., 0., 0., 0.]]])"
      ]
     },
     "execution_count": 24,
     "metadata": {},
     "output_type": "execute_result"
    }
   ],
   "source": [
    "dataset['y']"
   ]
  },
  {
   "cell_type": "code",
   "execution_count": null,
   "metadata": {},
   "outputs": [],
   "source": []
  },
  {
   "cell_type": "code",
   "execution_count": null,
   "metadata": {},
   "outputs": [],
   "source": []
  },
  {
   "cell_type": "code",
   "execution_count": 25,
   "metadata": {
    "ExecuteTime": {
     "end_time": "2021-05-13T09:10:53.395837Z",
     "start_time": "2021-05-13T09:10:53.220680Z"
    },
    "scrolled": false
   },
   "outputs": [
    {
     "data": {
      "image/png": "[encoded data removed]",
      "text/plain": [
       "<Figure size 576x432 with 1 Axes>"
      ]
     },
     "metadata": {},
     "output_type": "display_data"
    }
   ],
   "source": [
    "plot_graph(dataset['g'])"
   ]
  },
  {
   "cell_type": "markdown",
   "metadata": {},
   "source": [
    "### generate sample datasets for EDA\n",
    "\n",
    "- test_type\n",
    "    - default: base case benchmarks as originally specified\n",
    "    - api: heavily loaded test cases (i.e. binding thermal limit constraints)\n",
    "    - sad: small phase angle difference cases (i.e. binding phase angle difference constraints)"
   ]
  },
  {
   "cell_type": "code",
   "execution_count": 24,
   "metadata": {
    "ExecuteTime": {
     "end_time": "2021-05-13T03:03:16.389810Z",
     "start_time": "2021-05-13T03:03:16.386662Z"
    }
   },
   "outputs": [],
   "source": [
    "test_cases = [\n",
    "    \"pglib_opf_case24_ieee_rts.m\",\n",
    "    \"pglib_opf_case30_ieee.m\",\n",
    "    \"pglib_opf_case39_epri.m\",\n",
    "    \"pglib_opf_case57_ieee.m\",\n",
    "    \"pglib_opf_case73_ieee_rts.m\",\n",
    "    \"pglib_opf_case89_pegase.m\",\n",
    "    \"pglib_opf_case118_ieee.m\",\n",
    "    \"pglib_opf_case162_ieee_dtc.m\",\n",
    "    \"pglib_opf_case179_goc.m\",\n",
    "    \"pglib_opf_case200_activ.m\",\n",
    "    \"pglib_opf_case240_pserc.m\",\n",
    "    \"pglib_opf_case300_ieee.m\",\n",
    "    \"pglib_opf_case500_goc.m\",\n",
    "    \"pglib_opf_case588_sdet.m\",\n",
    "    \"pglib_opf_case793_goc.m\",\n",
    "    \"pglib_opf_case1354_pegase.m\",\n",
    "    \"pglib_opf_case1888_rte.m\",\n",
    "    \"pglib_opf_case1951_rte.m\",\n",
    "    \"pglib_opf_case2000_goc.m\",\n",
    "    \"pglib_opf_case2312_goc.m\",\n",
    "    \"pglib_opf_case2383wp_k.m\",\n",
    "#     \"pglib_opf_case2736sp_k.m\",\n",
    "#     \"pglib_opf_case2737sop_k.m\",\n",
    "#     \"pglib_opf_case2742_goc.m\",\n",
    "#     \"pglib_opf_case2746wop_k.m\",\n",
    "#     \"pglib_opf_case2746wop_k.m\",\n",
    "#     \"pglib_opf_case2848_rte.m\",\n",
    "]\n",
    "\n",
    "dataset_size = 100\n",
    "std_scalers = [0.03, 0.05, 0.07, 0.09, 0.11, 0.13, 0.15]\n",
    "test_types = ['default', 'api', 'sad']"
   ]
  },
  {
   "cell_type": "code",
   "execution_count": 25,
   "metadata": {
    "ExecuteTime": {
     "end_time": "2021-05-13T03:03:16.393493Z",
     "start_time": "2021-05-13T03:03:16.391807Z"
    },
    "scrolled": false
   },
   "outputs": [],
   "source": [
    "# for std_scaler in std_scalers:\n",
    "#     print(\"[ {} / {} ]\".format(std_scaler, test_types[0]))\n",
    "#     build_datasets(test_cases,\n",
    "#                    dataset_size,\n",
    "#                    std_scaler=std_scaler,\n",
    "#                    test_type=test_types[0],\n",
    "#                    gen_only=True)"
   ]
  },
  {
   "cell_type": "code",
   "execution_count": 26,
   "metadata": {
    "ExecuteTime": {
     "end_time": "2021-05-13T03:03:16.412425Z",
     "start_time": "2021-05-13T03:03:16.395136Z"
    }
   },
   "outputs": [],
   "source": [
    "# for test_type in test_types:\n",
    "#     print(\"[ {} / {} ]\".format(std_scalers[0], test_type))\n",
    "#     build_datasets(test_cases,\n",
    "#                    dataset_size,\n",
    "#                    std_scaler=std_scalers[0],\n",
    "#                    test_type=test_type)"
   ]
  },
  {
   "cell_type": "markdown",
   "metadata": {
    "ExecuteTime": {
     "end_time": "2020-04-28T13:58:42.208407Z",
     "start_time": "2020-04-28T13:58:42.204498Z"
    }
   },
   "source": [
    "### do EDA\n",
    "- [EDA ipynb](https://github.com/jhyun0919/Project_EE394V_SPR2021/blob/main/data/eda.ipynb)"
   ]
  },
  {
   "cell_type": "code",
   "execution_count": 27,
   "metadata": {
    "ExecuteTime": {
     "end_time": "2021-05-13T03:03:16.416219Z",
     "start_time": "2021-05-13T03:03:16.414253Z"
    }
   },
   "outputs": [],
   "source": [
    "# select proper test params @ ./../params.py"
   ]
  },
  {
   "cell_type": "markdown",
   "metadata": {},
   "source": [
    "### gernerate datasets based on EDA "
   ]
  },
  {
   "cell_type": "code",
   "execution_count": 26,
   "metadata": {
    "ExecuteTime": {
     "end_time": "2021-05-13T09:11:04.904204Z",
     "start_time": "2021-05-13T09:11:04.876131Z"
    }
   },
   "outputs": [],
   "source": [
    "import sys\n",
    "sys.path.insert(0,'..')\n",
    "sys.path.insert(0,'../../')\n",
    "from params import *\n",
    "\n",
    "test_cases, dataset_size, std_scaler, test_type = get_test_params()"
   ]
  },
  {
   "cell_type": "code",
   "execution_count": 27,
   "metadata": {
    "ExecuteTime": {
     "end_time": "2021-05-13T09:17:45.998678Z",
     "start_time": "2021-05-13T09:11:05.910990Z"
    },
    "scrolled": false
   },
   "outputs": [
    {
     "name": "stdout",
     "output_type": "stream",
     "text": [
      "> creating dataset with pglib_opf_case24_ieee_rts.m\n"
     ]
    },
    {
     "name": "stderr",
     "output_type": "stream",
     "text": [
      "100%|██████████| 10000/10000 [06:04<00:00, 27.41it/s]\n"
     ]
    }
   ],
   "source": [
    "build_datasets(test_cases=test_cases,\n",
    "               dataset_size=dataset_size,\n",
    "               std_scaler=std_scaler,\n",
    "               test_type=test_type,\n",
    "               gen_only=True)"
   ]
  },
  {
   "cell_type": "code",
   "execution_count": null,
   "metadata": {},
   "outputs": [],
   "source": []
  }
 ],
 "metadata": {
  "kernelspec": {
   "display_name": "Python 3",
   "language": "python",
   "name": "python3"
  },
  "language_info": {
   "codemirror_mode": {
    "name": "ipython",
    "version": 3
   },
   "file_extension": ".py",
   "mimetype": "text/x-python",
   "name": "python",
   "nbconvert_exporter": "python",
   "pygments_lexer": "ipython3",
   "version": "3.7.9"
  },
  "latex_envs": {
   "LaTeX_envs_menu_present": true,
   "autoclose": false,
   "autocomplete": true,
   "bibliofile": "biblio.bib",
   "cite_by": "apalike",
   "current_citInitial": 1,
   "eqLabelWithNumbers": true,
   "eqNumInitial": 1,
   "hotkeys": {
    "equation": "Ctrl-E",
    "itemize": "Ctrl-I"
   },
   "labels_anchors": false,
   "latex_user_defs": false,
   "report_style_numbering": false,
   "user_envs_cfg": false
  },
  "toc": {
   "base_numbering": 1,
   "nav_menu": {},
   "number_sections": true,
   "sideBar": true,
   "skip_h1_title": false,
   "title_cell": "Table of Contents",
   "title_sidebar": "Contents",
   "toc_cell": false,
   "toc_position": {},
   "toc_section_display": true,
   "toc_window_display": false
  },
  "varInspector": {
   "cols": {
    "lenName": 16,
    "lenType": 16,
    "lenVar": 40
   },
   "kernels_config": {
    "python": {
     "delete_cmd_postfix": "",
     "delete_cmd_prefix": "del ",
     "library": "var_list.py",
     "varRefreshCmd": "print(var_dic_list())"
    },
    "r": {
     "delete_cmd_postfix": ") ",
     "delete_cmd_prefix": "rm(",
     "library": "var_list.r",
     "varRefreshCmd": "cat(var_dic_list()) "
    }
   },
   "types_to_exclude": [
    "module",
    "function",
    "builtin_function_or_method",
    "instance",
    "_Feature"
   ],
   "window_display": false
  }
 },
 "nbformat": 4,
 "nbformat_minor": 4
}
